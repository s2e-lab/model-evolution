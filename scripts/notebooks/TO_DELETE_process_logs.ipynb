{
 "cells": [
  {
   "cell_type": "code",
   "execution_count": 15,
   "id": "initial_id",
   "metadata": {
    "collapsed": true,
    "ExecuteTime": {
     "end_time": "2024-11-08T18:27:21.379139Z",
     "start_time": "2024-11-08T18:27:21.072921Z"
    }
   },
   "outputs": [
    {
     "data": {
      "text/plain": "(Timestamp('2024-08-30 08:19:21'), Timestamp('2018-11-14 18:35:08'))"
     },
     "execution_count": 15,
     "metadata": {},
     "output_type": "execute_result"
    }
   ],
   "source": [
    "\"\"\"\n",
    "Cut off the commit logs to Oct 10,2024\n",
    "\"\"\"\n",
    "import pandas as pd\n",
    "import datetime\n",
    "from datetime import datetime, timezone\n",
    "CUT_OFF_DATE = datetime(2024, 8, 31)\n",
    "df = pd.read_csv(\"../../data/NEW_huggingface_sort_by_createdAt_top996939_commits_0_1035.csv\")\n",
    "# convert date to datetime\n",
    "df['date'] =  pd.to_datetime(df['date'])\n",
    "# filter date before cut off date\n",
    "df = df[df['date'] <=  CUT_OFF_DATE]\n",
    "\n",
    "\n",
    "\n",
    "# df = df[df['date'] <  '2024-10-10']\n",
    "df.to_csv(\"../../data/NEW2_FILTERED_huggingface_sort_by_createdAt_top996939_commits_0_1035.csv\", index=False)\n",
    "\n",
    "df['date'].max(),df['date'].min()"
   ]
  }
 ],
 "metadata": {
  "kernelspec": {
   "display_name": "Python 3",
   "language": "python",
   "name": "python3"
  },
  "language_info": {
   "codemirror_mode": {
    "name": "ipython",
    "version": 2
   },
   "file_extension": ".py",
   "mimetype": "text/x-python",
   "name": "python",
   "nbconvert_exporter": "python",
   "pygments_lexer": "ipython2",
   "version": "2.7.6"
  }
 },
 "nbformat": 4,
 "nbformat_minor": 5
}
