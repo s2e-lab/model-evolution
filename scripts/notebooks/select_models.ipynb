{
 "cells": [
  {
   "cell_type": "markdown",
   "source": [
    "# Selecting model repositories to include on our study"
   ],
   "metadata": {
    "collapsed": false
   },
   "id": "be90284bf5bc1ccd"
  },
  {
   "cell_type": "markdown",
   "source": [
    "1. Load the data\n",
    "2. Filter the data\n",
    "3. Save the data"
   ],
   "metadata": {
    "collapsed": false
   },
   "id": "161f7975f60363e4"
  },
  {
   "cell_type": "markdown",
   "source": [
    "## 1 - Load the repositories' metadata"
   ],
   "metadata": {
    "collapsed": false
   },
   "id": "63a27689ab475d7f"
  },
  {
   "cell_type": "code",
   "outputs": [
    {
     "name": "stdout",
     "output_type": "stream",
     "text": [
      "Archive:  ../../data/huggingface_sort_by_createdAt_top996939.json.zip\r\n",
      "  inflating: ../../data/huggingface_sort_by_createdAt_top996939.json  \r\n"
     ]
    },
    {
     "data": {
      "text/plain": "Timestamp('2022-03-02 23:29:04+0000', tz='UTC')"
     },
     "execution_count": 28,
     "metadata": {},
     "output_type": "execute_result"
    }
   ],
   "source": [
    "import pandas as pd\n",
    "\n",
    "# uncompress zip file\n",
    "!unzip ../../data/huggingface_sort_by_createdAt_top996939.json.zip -d ../../data/\n",
    "# load the data\n",
    "input_file = \"../../data/huggingface_sort_by_createdAt_top996939.json\"\n",
    "df = pd.read_json(input_file)\n",
    "# delete the unzipped file\n",
    "!rm ../../data/huggingface_sort_by_createdAt_top996939.json\n",
    "df[\"created_at\"].min()"
   ],
   "metadata": {
    "collapsed": false,
    "ExecuteTime": {
     "end_time": "2024-09-26T23:54:47.121534Z",
     "start_time": "2024-09-26T23:53:10.161460Z"
    }
   },
   "id": "91d359644d0ee6db",
   "execution_count": 28
  },
  {
   "cell_type": "code",
   "outputs": [],
   "source": [
    "# HF API has a unique situation: \n",
    "# It's important to note that there is a unique value, 2022-03-02T23:29:04.000Z assigned to all repositories that were created before we began storing creation dates.\n",
    "df[\"created_at\"].min()"
   ],
   "metadata": {
    "collapsed": false,
    "ExecuteTime": {
     "end_time": "2024-09-27T16:14:30.396309Z",
     "start_time": "2024-09-27T16:14:30.390323Z"
    }
   },
   "id": "93f8d82ff69a1e5f",
   "execution_count": 36
  },
  {
   "cell_type": "markdown",
   "source": [
    "## 2 - Filter the repositories based on the following criteria\n",
    "- models created before 2022; AND\n",
    "- models last modified in 2024; AND\n",
    "- models with at least one model file."
   ],
   "metadata": {
    "collapsed": false
   },
   "id": "e9a970d614f0a8ae"
  },
  {
   "cell_type": "markdown",
   "source": [],
   "metadata": {
    "collapsed": false
   },
   "id": "bbdf3cbe08311122"
  },
  {
   "cell_type": "code",
   "outputs": [
    {
     "data": {
      "text/plain": "                                               id       author  \\\n932668              rinna/japanese-gpt-neox-small        rinna   \n932830  Intel/roberta-base-squad2-int8-static-inc        Intel   \n932867                           saphvis/ngpx2022      saphvis   \n932884         recogna-nlp/ptt5-base-summ-cstnews  recogna-nlp   \n932886         recogna-nlp/ptt5-base-summ-temario  recogna-nlp   \n...                                           ...          ...   \n996934                    albert/albert-xlarge-v1       albert   \n996935                     albert/albert-large-v2       albert   \n996936                     albert/albert-large-v1       albert   \n996937                      albert/albert-base-v2       albert   \n996938                      albert/albert-base-v1       albert   \n\n                                             sha             last_modified  \\\n932668  6fe409ad8b0d2c99df9741f85d202535e995614b 2024-07-20 07:53:40+00:00   \n932830  ced23b6a027eaea8b938f38ad34529415907fc3b 2024-03-21 12:57:36+00:00   \n932867  d14f4d3aea1bdcc86a2dee670fe33c9685013495 2024-09-01 16:35:52+00:00   \n932884  948171d6b274c3ba02a7131077def64e804c1369 2024-01-02 19:50:08+00:00   \n932886  659dc692e80022da91418270a24e422565cd6c20 2024-01-02 19:49:57+00:00   \n...                                          ...                       ...   \n996934  ed6f87d14403b3c459a458fa6aa9dc5c51c517c1 2024-02-19 11:01:28+00:00   \n996935  dfed3a5ef4499fb3351c4ebbcf487375d1e942c8 2024-02-19 10:58:48+00:00   \n996936  94fd741fb5d6cb5bc578fc154837016c583bafef 2024-02-19 10:58:26+00:00   \n996937  8e2f239c5f8a2c0f253781ca60135db913e5c80c 2024-02-19 10:58:14+00:00   \n996938  082438ba120d36b97b9288772a41144e941705b9 2024-02-19 10:57:35+00:00   \n\n                      created_at  private  gated  disabled  downloads  likes  \\\n932668 2022-08-31 05:58:25+00:00    False  False       NaN        409     12   \n932830 2022-08-30 08:21:15+00:00    False  False       NaN          0      1   \n932867 2022-08-30 01:23:35+00:00    False  False       NaN          0      0   \n932884 2022-08-29 20:44:51+00:00    False  False       NaN         21      8   \n932886 2022-08-29 20:34:35+00:00    False  False       NaN        106      1   \n...                          ...      ...    ...       ...        ...    ...   \n996934 2022-03-02 23:29:04+00:00    False  False       NaN        798      4   \n996935 2022-03-02 23:29:04+00:00    False  False       NaN      11271     16   \n996936 2022-03-02 23:29:04+00:00    False  False       NaN       1522      3   \n996937 2022-03-02 23:29:04+00:00    False  False       NaN    1890109    104   \n996938 2022-03-02 23:29:04+00:00    False  False       NaN      15530      8   \n\n        ... transformers_info  \\\n932668  ...               NaN   \n932830  ...               NaN   \n932867  ...               NaN   \n932884  ...               NaN   \n932886  ...               NaN   \n...     ...               ...   \n996934  ...               NaN   \n996935  ...               NaN   \n996936  ...               NaN   \n996937  ...               NaN   \n996938  ...               NaN   \n\n                                                 siblings spaces  safetensors  \\\n932668  [{'rfilename': '.gitattributes', 'size': None,...    NaN          NaN   \n932830  [{'rfilename': '.gitattributes', 'size': None,...    NaN          NaN   \n932867  [{'rfilename': '.gitattributes', 'size': None,...    NaN          NaN   \n932884  [{'rfilename': '.gitattributes', 'size': None,...    NaN          NaN   \n932886  [{'rfilename': '.gitattributes', 'size': None,...    NaN          NaN   \n...                                                   ...    ...          ...   \n996934  [{'rfilename': '.gitattributes', 'size': None,...    NaN          NaN   \n996935  [{'rfilename': '.gitattributes', 'size': None,...    NaN          NaN   \n996936  [{'rfilename': '.gitattributes', 'size': None,...    NaN          NaN   \n996937  [{'rfilename': '.gitattributes', 'size': None,...    NaN          NaN   \n996938  [{'rfilename': '.gitattributes', 'size': None,...    NaN          NaN   \n\n                     lastModified  cardData  transformersInfo  \\\n932668  2024-07-20 07:53:40+00:00       NaN               NaN   \n932830  2024-03-21 12:57:36+00:00       NaN               NaN   \n932867  2024-09-01 16:35:52+00:00       NaN               NaN   \n932884  2024-01-02 19:50:08+00:00       NaN               NaN   \n932886  2024-01-02 19:49:57+00:00       NaN               NaN   \n...                           ...       ...               ...   \n996934  2024-02-19 11:01:28+00:00       NaN               NaN   \n996935  2024-02-19 10:58:48+00:00       NaN               NaN   \n996936  2024-02-19 10:58:26+00:00       NaN               NaN   \n996937  2024-02-19 10:58:14+00:00       NaN               NaN   \n996938  2024-02-19 10:57:35+00:00       NaN               NaN   \n\n                             _id              inference  \\\n932668  630ef8813f24a835ade6a213       explicit-opt-out   \n932830  630dc87bc0eca3037afc9361  pipeline-not-detected   \n932867  630d669781ef9b1772b5ad15   library-not-detected   \n932884  630d25437dacb93b3357af4f     not-popular-enough   \n932886  630d22db8e3ff0c7232f1453     not-popular-enough   \n...                          ...                    ...   \n996934  621ffdc036468d709f17432c     not-popular-enough   \n996935  621ffdc036468d709f17432b     not-popular-enough   \n996936  621ffdc036468d709f17432a     not-popular-enough   \n996937  621ffdc036468d709f174329                   cold   \n996938  621ffdc036468d709f174328     not-popular-enough   \n\n                                          modelId  \n932668              rinna/japanese-gpt-neox-small  \n932830  Intel/roberta-base-squad2-int8-static-inc  \n932867                           saphvis/ngpx2022  \n932884         recogna-nlp/ptt5-base-summ-cstnews  \n932886         recogna-nlp/ptt5-base-summ-temario  \n...                                           ...  \n996934                    albert/albert-xlarge-v1  \n996935                     albert/albert-large-v2  \n996936                     albert/albert-large-v1  \n996937                      albert/albert-base-v2  \n996938                      albert/albert-base-v1  \n\n[1034 rows x 28 columns]",
      "text/html": "<div>\n<style scoped>\n    .dataframe tbody tr th:only-of-type {\n        vertical-align: middle;\n    }\n\n    .dataframe tbody tr th {\n        vertical-align: top;\n    }\n\n    .dataframe thead th {\n        text-align: right;\n    }\n</style>\n<table border=\"1\" class=\"dataframe\">\n  <thead>\n    <tr style=\"text-align: right;\">\n      <th></th>\n      <th>id</th>\n      <th>author</th>\n      <th>sha</th>\n      <th>last_modified</th>\n      <th>created_at</th>\n      <th>private</th>\n      <th>gated</th>\n      <th>disabled</th>\n      <th>downloads</th>\n      <th>likes</th>\n      <th>...</th>\n      <th>transformers_info</th>\n      <th>siblings</th>\n      <th>spaces</th>\n      <th>safetensors</th>\n      <th>lastModified</th>\n      <th>cardData</th>\n      <th>transformersInfo</th>\n      <th>_id</th>\n      <th>inference</th>\n      <th>modelId</th>\n    </tr>\n  </thead>\n  <tbody>\n    <tr>\n      <th>932668</th>\n      <td>rinna/japanese-gpt-neox-small</td>\n      <td>rinna</td>\n      <td>6fe409ad8b0d2c99df9741f85d202535e995614b</td>\n      <td>2024-07-20 07:53:40+00:00</td>\n      <td>2022-08-31 05:58:25+00:00</td>\n      <td>False</td>\n      <td>False</td>\n      <td>NaN</td>\n      <td>409</td>\n      <td>12</td>\n      <td>...</td>\n      <td>NaN</td>\n      <td>[{'rfilename': '.gitattributes', 'size': None,...</td>\n      <td>NaN</td>\n      <td>NaN</td>\n      <td>2024-07-20 07:53:40+00:00</td>\n      <td>NaN</td>\n      <td>NaN</td>\n      <td>630ef8813f24a835ade6a213</td>\n      <td>explicit-opt-out</td>\n      <td>rinna/japanese-gpt-neox-small</td>\n    </tr>\n    <tr>\n      <th>932830</th>\n      <td>Intel/roberta-base-squad2-int8-static-inc</td>\n      <td>Intel</td>\n      <td>ced23b6a027eaea8b938f38ad34529415907fc3b</td>\n      <td>2024-03-21 12:57:36+00:00</td>\n      <td>2022-08-30 08:21:15+00:00</td>\n      <td>False</td>\n      <td>False</td>\n      <td>NaN</td>\n      <td>0</td>\n      <td>1</td>\n      <td>...</td>\n      <td>NaN</td>\n      <td>[{'rfilename': '.gitattributes', 'size': None,...</td>\n      <td>NaN</td>\n      <td>NaN</td>\n      <td>2024-03-21 12:57:36+00:00</td>\n      <td>NaN</td>\n      <td>NaN</td>\n      <td>630dc87bc0eca3037afc9361</td>\n      <td>pipeline-not-detected</td>\n      <td>Intel/roberta-base-squad2-int8-static-inc</td>\n    </tr>\n    <tr>\n      <th>932867</th>\n      <td>saphvis/ngpx2022</td>\n      <td>saphvis</td>\n      <td>d14f4d3aea1bdcc86a2dee670fe33c9685013495</td>\n      <td>2024-09-01 16:35:52+00:00</td>\n      <td>2022-08-30 01:23:35+00:00</td>\n      <td>False</td>\n      <td>False</td>\n      <td>NaN</td>\n      <td>0</td>\n      <td>0</td>\n      <td>...</td>\n      <td>NaN</td>\n      <td>[{'rfilename': '.gitattributes', 'size': None,...</td>\n      <td>NaN</td>\n      <td>NaN</td>\n      <td>2024-09-01 16:35:52+00:00</td>\n      <td>NaN</td>\n      <td>NaN</td>\n      <td>630d669781ef9b1772b5ad15</td>\n      <td>library-not-detected</td>\n      <td>saphvis/ngpx2022</td>\n    </tr>\n    <tr>\n      <th>932884</th>\n      <td>recogna-nlp/ptt5-base-summ-cstnews</td>\n      <td>recogna-nlp</td>\n      <td>948171d6b274c3ba02a7131077def64e804c1369</td>\n      <td>2024-01-02 19:50:08+00:00</td>\n      <td>2022-08-29 20:44:51+00:00</td>\n      <td>False</td>\n      <td>False</td>\n      <td>NaN</td>\n      <td>21</td>\n      <td>8</td>\n      <td>...</td>\n      <td>NaN</td>\n      <td>[{'rfilename': '.gitattributes', 'size': None,...</td>\n      <td>NaN</td>\n      <td>NaN</td>\n      <td>2024-01-02 19:50:08+00:00</td>\n      <td>NaN</td>\n      <td>NaN</td>\n      <td>630d25437dacb93b3357af4f</td>\n      <td>not-popular-enough</td>\n      <td>recogna-nlp/ptt5-base-summ-cstnews</td>\n    </tr>\n    <tr>\n      <th>932886</th>\n      <td>recogna-nlp/ptt5-base-summ-temario</td>\n      <td>recogna-nlp</td>\n      <td>659dc692e80022da91418270a24e422565cd6c20</td>\n      <td>2024-01-02 19:49:57+00:00</td>\n      <td>2022-08-29 20:34:35+00:00</td>\n      <td>False</td>\n      <td>False</td>\n      <td>NaN</td>\n      <td>106</td>\n      <td>1</td>\n      <td>...</td>\n      <td>NaN</td>\n      <td>[{'rfilename': '.gitattributes', 'size': None,...</td>\n      <td>NaN</td>\n      <td>NaN</td>\n      <td>2024-01-02 19:49:57+00:00</td>\n      <td>NaN</td>\n      <td>NaN</td>\n      <td>630d22db8e3ff0c7232f1453</td>\n      <td>not-popular-enough</td>\n      <td>recogna-nlp/ptt5-base-summ-temario</td>\n    </tr>\n    <tr>\n      <th>...</th>\n      <td>...</td>\n      <td>...</td>\n      <td>...</td>\n      <td>...</td>\n      <td>...</td>\n      <td>...</td>\n      <td>...</td>\n      <td>...</td>\n      <td>...</td>\n      <td>...</td>\n      <td>...</td>\n      <td>...</td>\n      <td>...</td>\n      <td>...</td>\n      <td>...</td>\n      <td>...</td>\n      <td>...</td>\n      <td>...</td>\n      <td>...</td>\n      <td>...</td>\n      <td>...</td>\n    </tr>\n    <tr>\n      <th>996934</th>\n      <td>albert/albert-xlarge-v1</td>\n      <td>albert</td>\n      <td>ed6f87d14403b3c459a458fa6aa9dc5c51c517c1</td>\n      <td>2024-02-19 11:01:28+00:00</td>\n      <td>2022-03-02 23:29:04+00:00</td>\n      <td>False</td>\n      <td>False</td>\n      <td>NaN</td>\n      <td>798</td>\n      <td>4</td>\n      <td>...</td>\n      <td>NaN</td>\n      <td>[{'rfilename': '.gitattributes', 'size': None,...</td>\n      <td>NaN</td>\n      <td>NaN</td>\n      <td>2024-02-19 11:01:28+00:00</td>\n      <td>NaN</td>\n      <td>NaN</td>\n      <td>621ffdc036468d709f17432c</td>\n      <td>not-popular-enough</td>\n      <td>albert/albert-xlarge-v1</td>\n    </tr>\n    <tr>\n      <th>996935</th>\n      <td>albert/albert-large-v2</td>\n      <td>albert</td>\n      <td>dfed3a5ef4499fb3351c4ebbcf487375d1e942c8</td>\n      <td>2024-02-19 10:58:48+00:00</td>\n      <td>2022-03-02 23:29:04+00:00</td>\n      <td>False</td>\n      <td>False</td>\n      <td>NaN</td>\n      <td>11271</td>\n      <td>16</td>\n      <td>...</td>\n      <td>NaN</td>\n      <td>[{'rfilename': '.gitattributes', 'size': None,...</td>\n      <td>NaN</td>\n      <td>NaN</td>\n      <td>2024-02-19 10:58:48+00:00</td>\n      <td>NaN</td>\n      <td>NaN</td>\n      <td>621ffdc036468d709f17432b</td>\n      <td>not-popular-enough</td>\n      <td>albert/albert-large-v2</td>\n    </tr>\n    <tr>\n      <th>996936</th>\n      <td>albert/albert-large-v1</td>\n      <td>albert</td>\n      <td>94fd741fb5d6cb5bc578fc154837016c583bafef</td>\n      <td>2024-02-19 10:58:26+00:00</td>\n      <td>2022-03-02 23:29:04+00:00</td>\n      <td>False</td>\n      <td>False</td>\n      <td>NaN</td>\n      <td>1522</td>\n      <td>3</td>\n      <td>...</td>\n      <td>NaN</td>\n      <td>[{'rfilename': '.gitattributes', 'size': None,...</td>\n      <td>NaN</td>\n      <td>NaN</td>\n      <td>2024-02-19 10:58:26+00:00</td>\n      <td>NaN</td>\n      <td>NaN</td>\n      <td>621ffdc036468d709f17432a</td>\n      <td>not-popular-enough</td>\n      <td>albert/albert-large-v1</td>\n    </tr>\n    <tr>\n      <th>996937</th>\n      <td>albert/albert-base-v2</td>\n      <td>albert</td>\n      <td>8e2f239c5f8a2c0f253781ca60135db913e5c80c</td>\n      <td>2024-02-19 10:58:14+00:00</td>\n      <td>2022-03-02 23:29:04+00:00</td>\n      <td>False</td>\n      <td>False</td>\n      <td>NaN</td>\n      <td>1890109</td>\n      <td>104</td>\n      <td>...</td>\n      <td>NaN</td>\n      <td>[{'rfilename': '.gitattributes', 'size': None,...</td>\n      <td>NaN</td>\n      <td>NaN</td>\n      <td>2024-02-19 10:58:14+00:00</td>\n      <td>NaN</td>\n      <td>NaN</td>\n      <td>621ffdc036468d709f174329</td>\n      <td>cold</td>\n      <td>albert/albert-base-v2</td>\n    </tr>\n    <tr>\n      <th>996938</th>\n      <td>albert/albert-base-v1</td>\n      <td>albert</td>\n      <td>082438ba120d36b97b9288772a41144e941705b9</td>\n      <td>2024-02-19 10:57:35+00:00</td>\n      <td>2022-03-02 23:29:04+00:00</td>\n      <td>False</td>\n      <td>False</td>\n      <td>NaN</td>\n      <td>15530</td>\n      <td>8</td>\n      <td>...</td>\n      <td>NaN</td>\n      <td>[{'rfilename': '.gitattributes', 'size': None,...</td>\n      <td>NaN</td>\n      <td>NaN</td>\n      <td>2024-02-19 10:57:35+00:00</td>\n      <td>NaN</td>\n      <td>NaN</td>\n      <td>621ffdc036468d709f174328</td>\n      <td>not-popular-enough</td>\n      <td>albert/albert-base-v1</td>\n    </tr>\n  </tbody>\n</table>\n<p>1034 rows × 28 columns</p>\n</div>"
     },
     "execution_count": 38,
     "metadata": {},
     "output_type": "execute_result"
    }
   ],
   "source": [
    "from analyticaml import MODEL_FILE_EXTENSIONS\n",
    "\n",
    "df['last_modified'] = pd.to_datetime(df['last_modified'], utc=True)\n",
    "df['created_at'] = pd.to_datetime(df['created_at'], utc=True)\n",
    "\n",
    "\n",
    "# find models created_at before Sep-2022 and last_modified in 2024\n",
    "df_filtered = df[(df[\"created_at\"].dt.year == 2022) & (df[\"created_at\"].dt.month < 9) & (df[\"last_modified\"].dt.year == 2024)]\n",
    "df_filtered = df_filtered[(df_filtered[\"created_at\"].dt.year <= 2022)]\n",
    "\n",
    "# find models with at least one model file (extension in MODEL_FILE_EXTENSIONS)\n",
    "df_filtered = df_filtered[\n",
    "    df_filtered[\"siblings\"].apply(lambda x: any([file[\"extension\"] in MODEL_FILE_EXTENSIONS for file in x]))]\n",
    "# \n",
    "df_filtered\n"
   ],
   "metadata": {
    "collapsed": false,
    "ExecuteTime": {
     "end_time": "2024-09-27T16:15:07.288844Z",
     "start_time": "2024-09-27T16:15:06.990075Z"
    }
   },
   "id": "2178ec04eaae589e",
   "execution_count": 38
  },
  {
   "cell_type": "markdown",
   "source": [
    "## 3 - Save the data"
   ],
   "metadata": {
    "collapsed": false
   },
   "id": "e20772751eb3c1c8"
  },
  {
   "cell_type": "code",
   "outputs": [],
   "source": [
    "# ensure gated column is boolean to avoid runtime errors\n",
    "df_filtered[\"gated\"] = df_filtered[\"gated\"].astype(bool)\n",
    "df_filtered.to_json(input_file.replace(\".json\", \"_selected.json\"))\n"
   ],
   "metadata": {
    "collapsed": false,
    "ExecuteTime": {
     "end_time": "2024-09-27T00:05:30.565722Z",
     "start_time": "2024-09-27T00:05:30.518488Z"
    }
   },
   "id": "24e4326bd0f7f5c2",
   "execution_count": 33
  }
 ],
 "metadata": {
  "kernelspec": {
   "display_name": "Python 3",
   "language": "python",
   "name": "python3"
  },
  "language_info": {
   "codemirror_mode": {
    "name": "ipython",
    "version": 2
   },
   "file_extension": ".py",
   "mimetype": "text/x-python",
   "name": "python",
   "nbconvert_exporter": "python",
   "pygments_lexer": "ipython2",
   "version": "2.7.6"
  }
 },
 "nbformat": 4,
 "nbformat_minor": 5
}
