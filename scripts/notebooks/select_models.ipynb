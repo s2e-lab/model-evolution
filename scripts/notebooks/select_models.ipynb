{
 "cells": [
  {
   "cell_type": "markdown",
   "source": [
    "# Selecting model repositories to include on our study"
   ],
   "metadata": {
    "collapsed": false
   },
   "id": "be90284bf5bc1ccd"
  },
  {
   "cell_type": "markdown",
   "source": [
    "1. Load the data\n",
    "2. Filter the data\n",
    "3. Save the data"
   ],
   "metadata": {
    "collapsed": false
   },
   "id": "161f7975f60363e4"
  },
  {
   "cell_type": "markdown",
   "source": [
    "## 1 - Load the repositories' metadata"
   ],
   "metadata": {
    "collapsed": false
   },
   "id": "47fdb7df725ebefc"
  },
  {
   "cell_type": "code",
   "outputs": [],
   "source": [
    "import pandas as pd\n",
    "# uncompress zip file\n",
    "# !unzip ../../data/huggingface_sort_by_downloads_top1000.json.zip -d ../../data/\n",
    "# load the data\n",
    "input_file = \"../../data/huggingface_sort_by_createdAt_top996939.json\"\n",
    "df = pd.read_json(input_file)\n",
    "df[\"created_at\"].min() "
   ],
   "metadata": {
    "collapsed": false,
    "ExecuteTime": {
     "end_time": "2024-09-25T23:45:27.544246Z",
     "start_time": "2024-09-25T23:44:23.413638Z"
    }
   },
   "id": "91d359644d0ee6db",
   "execution_count": 79
  },
  {
   "cell_type": "code",
   "outputs": [
    {
     "data": {
      "text/plain": "Timestamp('2022-03-02 23:29:04+0000', tz='UTC')"
     },
     "execution_count": 99,
     "metadata": {},
     "output_type": "execute_result"
    }
   ],
   "source": [
    "df[\"created_at\"].min()"
   ],
   "metadata": {
    "collapsed": false,
    "ExecuteTime": {
     "end_time": "2024-09-25T23:52:25.831340Z",
     "start_time": "2024-09-25T23:52:25.824374Z"
    }
   },
   "id": "93f8d82ff69a1e5f",
   "execution_count": 99
  },
  {
   "cell_type": "markdown",
   "source": [
    "## 2 - Filter the repositories based on the following criteria\n",
    "- models created before 2022; AND\n",
    "- models last modified in 2024; AND\n",
    "- models with at least one model file."
   ],
   "metadata": {
    "collapsed": false
   },
   "id": "e9a970d614f0a8ae"
  },
  {
   "cell_type": "markdown",
   "source": [],
   "metadata": {
    "collapsed": false
   },
   "id": "bbdf3cbe08311122"
  },
  {
   "cell_type": "code",
   "outputs": [
    {
     "data": {
      "text/plain": "Timestamp('2022-03-02 23:29:04+0000', tz='UTC')"
     },
     "execution_count": 98,
     "metadata": {},
     "output_type": "execute_result"
    }
   ],
   "source": [
    "from analyticaml import MODEL_FILE_EXTENSIONS\n",
    "\n",
    "df['last_modified'] = pd.to_datetime(df['last_modified'],utc=True)\n",
    "df['created_at'] = pd.to_datetime(df['created_at'],utc=True)\n",
    "\n",
    "# find models created_at before 2022 and last_modified in 2024\n",
    "df_filtered = df[(df[\"created_at\"].dt.year <= 2022) & (df[\"last_modified\"].dt.year == 2024)]\n",
    "\n",
    "# find models with at least one model file (extension in MODEL_FILE_EXTENSIONS)\n",
    "df_filtered = df_filtered[df_filtered[\"siblings\"].apply(lambda x: any([file[\"extension\"] in MODEL_FILE_EXTENSIONS for file in x]))]\n",
    "df_filtered\n",
    "\n",
    "# find the oldest created_at date \n",
    "df[\"created_at\"].min()\n"
   ],
   "metadata": {
    "collapsed": false,
    "ExecuteTime": {
     "end_time": "2024-09-25T23:52:14.480862Z",
     "start_time": "2024-09-25T23:52:14.388770Z"
    }
   },
   "id": "2178ec04eaae589e",
   "execution_count": 98
  },
  {
   "cell_type": "markdown",
   "source": [
    "## 3 - Save the data"
   ],
   "metadata": {
    "collapsed": false
   },
   "id": "e20772751eb3c1c8"
  },
  {
   "cell_type": "code",
   "outputs": [
    {
     "ename": "KeyError",
     "evalue": "'gated'",
     "output_type": "error",
     "traceback": [
      "\u001B[0;31m---------------------------------------------------------------------------\u001B[0m",
      "\u001B[0;31mKeyError\u001B[0m                                  Traceback (most recent call last)",
      "File \u001B[0;32m~/.local/share/virtualenvs/wip-model-evolution-fqwVAKQN/lib/python3.10/site-packages/pandas/core/indexes/base.py:3805\u001B[0m, in \u001B[0;36mIndex.get_loc\u001B[0;34m(self, key)\u001B[0m\n\u001B[1;32m   3804\u001B[0m \u001B[38;5;28;01mtry\u001B[39;00m:\n\u001B[0;32m-> 3805\u001B[0m     \u001B[38;5;28;01mreturn\u001B[39;00m \u001B[38;5;28;43mself\u001B[39;49m\u001B[38;5;241;43m.\u001B[39;49m\u001B[43m_engine\u001B[49m\u001B[38;5;241;43m.\u001B[39;49m\u001B[43mget_loc\u001B[49m\u001B[43m(\u001B[49m\u001B[43mcasted_key\u001B[49m\u001B[43m)\u001B[49m\n\u001B[1;32m   3806\u001B[0m \u001B[38;5;28;01mexcept\u001B[39;00m \u001B[38;5;167;01mKeyError\u001B[39;00m \u001B[38;5;28;01mas\u001B[39;00m err:\n",
      "File \u001B[0;32mindex.pyx:167\u001B[0m, in \u001B[0;36mpandas._libs.index.IndexEngine.get_loc\u001B[0;34m()\u001B[0m\n",
      "File \u001B[0;32mindex.pyx:196\u001B[0m, in \u001B[0;36mpandas._libs.index.IndexEngine.get_loc\u001B[0;34m()\u001B[0m\n",
      "File \u001B[0;32mpandas/_libs/hashtable_class_helper.pxi:7081\u001B[0m, in \u001B[0;36mpandas._libs.hashtable.PyObjectHashTable.get_item\u001B[0;34m()\u001B[0m\n",
      "File \u001B[0;32mpandas/_libs/hashtable_class_helper.pxi:7089\u001B[0m, in \u001B[0;36mpandas._libs.hashtable.PyObjectHashTable.get_item\u001B[0;34m()\u001B[0m\n",
      "\u001B[0;31mKeyError\u001B[0m: 'gated'",
      "\nThe above exception was the direct cause of the following exception:\n",
      "\u001B[0;31mKeyError\u001B[0m                                  Traceback (most recent call last)",
      "Cell \u001B[0;32mIn[92], line 2\u001B[0m\n\u001B[1;32m      1\u001B[0m \u001B[38;5;66;03m# ensure gated column is boolean to avoid runtime errors\u001B[39;00m\n\u001B[0;32m----> 2\u001B[0m df_filtered[\u001B[38;5;124m\"\u001B[39m\u001B[38;5;124mgated\u001B[39m\u001B[38;5;124m\"\u001B[39m] \u001B[38;5;241m=\u001B[39m \u001B[43mdf_filtered\u001B[49m\u001B[43m[\u001B[49m\u001B[38;5;124;43m\"\u001B[39;49m\u001B[38;5;124;43mgated\u001B[39;49m\u001B[38;5;124;43m\"\u001B[39;49m\u001B[43m]\u001B[49m\u001B[38;5;241m.\u001B[39mastype(\u001B[38;5;28mbool\u001B[39m)\n\u001B[1;32m      3\u001B[0m df_filtered\u001B[38;5;241m.\u001B[39mto_json(input_file\u001B[38;5;241m.\u001B[39mreplace(\u001B[38;5;124m\"\u001B[39m\u001B[38;5;124m.json\u001B[39m\u001B[38;5;124m\"\u001B[39m, \u001B[38;5;124m\"\u001B[39m\u001B[38;5;124m_selected.json\u001B[39m\u001B[38;5;124m\"\u001B[39m))\n\u001B[1;32m      4\u001B[0m df_filtered\n",
      "File \u001B[0;32m~/.local/share/virtualenvs/wip-model-evolution-fqwVAKQN/lib/python3.10/site-packages/pandas/core/frame.py:4102\u001B[0m, in \u001B[0;36mDataFrame.__getitem__\u001B[0;34m(self, key)\u001B[0m\n\u001B[1;32m   4100\u001B[0m \u001B[38;5;28;01mif\u001B[39;00m \u001B[38;5;28mself\u001B[39m\u001B[38;5;241m.\u001B[39mcolumns\u001B[38;5;241m.\u001B[39mnlevels \u001B[38;5;241m>\u001B[39m \u001B[38;5;241m1\u001B[39m:\n\u001B[1;32m   4101\u001B[0m     \u001B[38;5;28;01mreturn\u001B[39;00m \u001B[38;5;28mself\u001B[39m\u001B[38;5;241m.\u001B[39m_getitem_multilevel(key)\n\u001B[0;32m-> 4102\u001B[0m indexer \u001B[38;5;241m=\u001B[39m \u001B[38;5;28;43mself\u001B[39;49m\u001B[38;5;241;43m.\u001B[39;49m\u001B[43mcolumns\u001B[49m\u001B[38;5;241;43m.\u001B[39;49m\u001B[43mget_loc\u001B[49m\u001B[43m(\u001B[49m\u001B[43mkey\u001B[49m\u001B[43m)\u001B[49m\n\u001B[1;32m   4103\u001B[0m \u001B[38;5;28;01mif\u001B[39;00m is_integer(indexer):\n\u001B[1;32m   4104\u001B[0m     indexer \u001B[38;5;241m=\u001B[39m [indexer]\n",
      "File \u001B[0;32m~/.local/share/virtualenvs/wip-model-evolution-fqwVAKQN/lib/python3.10/site-packages/pandas/core/indexes/base.py:3812\u001B[0m, in \u001B[0;36mIndex.get_loc\u001B[0;34m(self, key)\u001B[0m\n\u001B[1;32m   3807\u001B[0m     \u001B[38;5;28;01mif\u001B[39;00m \u001B[38;5;28misinstance\u001B[39m(casted_key, \u001B[38;5;28mslice\u001B[39m) \u001B[38;5;129;01mor\u001B[39;00m (\n\u001B[1;32m   3808\u001B[0m         \u001B[38;5;28misinstance\u001B[39m(casted_key, abc\u001B[38;5;241m.\u001B[39mIterable)\n\u001B[1;32m   3809\u001B[0m         \u001B[38;5;129;01mand\u001B[39;00m \u001B[38;5;28many\u001B[39m(\u001B[38;5;28misinstance\u001B[39m(x, \u001B[38;5;28mslice\u001B[39m) \u001B[38;5;28;01mfor\u001B[39;00m x \u001B[38;5;129;01min\u001B[39;00m casted_key)\n\u001B[1;32m   3810\u001B[0m     ):\n\u001B[1;32m   3811\u001B[0m         \u001B[38;5;28;01mraise\u001B[39;00m InvalidIndexError(key)\n\u001B[0;32m-> 3812\u001B[0m     \u001B[38;5;28;01mraise\u001B[39;00m \u001B[38;5;167;01mKeyError\u001B[39;00m(key) \u001B[38;5;28;01mfrom\u001B[39;00m \u001B[38;5;21;01merr\u001B[39;00m\n\u001B[1;32m   3813\u001B[0m \u001B[38;5;28;01mexcept\u001B[39;00m \u001B[38;5;167;01mTypeError\u001B[39;00m:\n\u001B[1;32m   3814\u001B[0m     \u001B[38;5;66;03m# If we have a listlike key, _check_indexing_error will raise\u001B[39;00m\n\u001B[1;32m   3815\u001B[0m     \u001B[38;5;66;03m#  InvalidIndexError. Otherwise we fall through and re-raise\u001B[39;00m\n\u001B[1;32m   3816\u001B[0m     \u001B[38;5;66;03m#  the TypeError.\u001B[39;00m\n\u001B[1;32m   3817\u001B[0m     \u001B[38;5;28mself\u001B[39m\u001B[38;5;241m.\u001B[39m_check_indexing_error(key)\n",
      "\u001B[0;31mKeyError\u001B[0m: 'gated'"
     ]
    }
   ],
   "source": [
    "# ensure gated column is boolean to avoid runtime errors\n",
    "# df_filtered[\"gated\"] = df_filtered[\"gated\"].astype(bool)\n",
    "df_filtered.to_json(input_file.replace(\".json\", \"_selected.json\"))\n",
    "df_filtered"
   ],
   "metadata": {
    "collapsed": false,
    "ExecuteTime": {
     "end_time": "2024-09-25T23:51:14.779779Z",
     "start_time": "2024-09-25T23:51:14.716914Z"
    }
   },
   "id": "24e4326bd0f7f5c2",
   "execution_count": 92
  }
 ],
 "metadata": {
  "kernelspec": {
   "display_name": "Python 3",
   "language": "python",
   "name": "python3"
  },
  "language_info": {
   "codemirror_mode": {
    "name": "ipython",
    "version": 2
   },
   "file_extension": ".py",
   "mimetype": "text/x-python",
   "name": "python",
   "nbconvert_exporter": "python",
   "pygments_lexer": "ipython2",
   "version": "2.7.6"
  }
 },
 "nbformat": 4,
 "nbformat_minor": 5
}
