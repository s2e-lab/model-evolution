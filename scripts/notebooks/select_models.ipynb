{
 "cells": [
  {
   "cell_type": "markdown",
   "source": [
    "# Selecting model repositories to include on our study"
   ],
   "metadata": {
    "collapsed": false
   },
   "id": "be90284bf5bc1ccd"
  },
  {
   "cell_type": "markdown",
   "source": [
    "1. Load the data\n",
    "2. Filter the data\n",
    "3. Save the data"
   ],
   "metadata": {
    "collapsed": false
   },
   "id": "161f7975f60363e4"
  },
  {
   "cell_type": "code",
   "outputs": [
    {
     "data": {
      "text/plain": "                                                  results\n0       {'id': 'MIT/ast-finetuned-audioset-10-10-0.459...\n1       {'id': 'google-bert/bert-base-uncased', 'autho...\n2       {'id': 'sentence-transformers/all-MiniLM-L6-v2...\n3       {'id': 'google/vit-base-patch16-224-in21k', 'a...\n4       {'id': 'openai/clip-vit-large-patch14', 'autho...\n...                                                   ...\n996821  {'id': 'mradermacher/Qwen2.5-Coder-7B-GGUF', '...\n996822  {'id': 'mradermacher/Qwen2.5-Coder-1.5B-GGUF',...\n996823  {'id': 'dogssss/Qwen-Qwen1.5-1.8B-1727302555',...\n996824  {'id': 'rishiraj/gemma-2-2b-mmlu-bn', 'author'...\n996825  {'id': 'mradermacher/Qwen2.5-Coder-1.5B-Instru...\n\n[996826 rows x 1 columns]",
      "text/html": "<div>\n<style scoped>\n    .dataframe tbody tr th:only-of-type {\n        vertical-align: middle;\n    }\n\n    .dataframe tbody tr th {\n        vertical-align: top;\n    }\n\n    .dataframe thead th {\n        text-align: right;\n    }\n</style>\n<table border=\"1\" class=\"dataframe\">\n  <thead>\n    <tr style=\"text-align: right;\">\n      <th></th>\n      <th>results</th>\n    </tr>\n  </thead>\n  <tbody>\n    <tr>\n      <th>0</th>\n      <td>{'id': 'MIT/ast-finetuned-audioset-10-10-0.459...</td>\n    </tr>\n    <tr>\n      <th>1</th>\n      <td>{'id': 'google-bert/bert-base-uncased', 'autho...</td>\n    </tr>\n    <tr>\n      <th>2</th>\n      <td>{'id': 'sentence-transformers/all-MiniLM-L6-v2...</td>\n    </tr>\n    <tr>\n      <th>3</th>\n      <td>{'id': 'google/vit-base-patch16-224-in21k', 'a...</td>\n    </tr>\n    <tr>\n      <th>4</th>\n      <td>{'id': 'openai/clip-vit-large-patch14', 'autho...</td>\n    </tr>\n    <tr>\n      <th>...</th>\n      <td>...</td>\n    </tr>\n    <tr>\n      <th>996821</th>\n      <td>{'id': 'mradermacher/Qwen2.5-Coder-7B-GGUF', '...</td>\n    </tr>\n    <tr>\n      <th>996822</th>\n      <td>{'id': 'mradermacher/Qwen2.5-Coder-1.5B-GGUF',...</td>\n    </tr>\n    <tr>\n      <th>996823</th>\n      <td>{'id': 'dogssss/Qwen-Qwen1.5-1.8B-1727302555',...</td>\n    </tr>\n    <tr>\n      <th>996824</th>\n      <td>{'id': 'rishiraj/gemma-2-2b-mmlu-bn', 'author'...</td>\n    </tr>\n    <tr>\n      <th>996825</th>\n      <td>{'id': 'mradermacher/Qwen2.5-Coder-1.5B-Instru...</td>\n    </tr>\n  </tbody>\n</table>\n<p>996826 rows × 1 columns</p>\n</div>"
     },
     "execution_count": 2,
     "metadata": {},
     "output_type": "execute_result"
    }
   ],
   "source": [
    "import pandas as pd\n",
    "# uncompress zip file\n",
    "# !unzipNOPE ../../data/huggingface_sort_by_downloads_top996826.json.zip -d ../../data/\n",
    "# load the data\n",
    "df = pd.read_json(\"../../data/huggingface_sort_by_downloads_top996826.json\")\n",
    "df = df[\"results\"]"
   ],
   "metadata": {
    "collapsed": false,
    "ExecuteTime": {
     "end_time": "2024-09-25T22:39:12.291693Z",
     "start_time": "2024-09-25T22:38:41.923743Z"
    }
   },
   "id": "91d359644d0ee6db",
   "execution_count": 2
  },
  {
   "cell_type": "code",
   "outputs": [],
   "source": [
    "# find models created_at before 2022\n",
    "df_filtered = df[df[\"created_at\"].dt.year <= 2022]\n",
    "df_filtered"
   ],
   "metadata": {
    "collapsed": false
   },
   "id": "24e4326bd0f7f5c2"
  },
  {
   "cell_type": "code",
   "outputs": [],
   "source": [
    "# find models last_modifed in 2024\n",
    "df_filtered = df[df[\"last_modified\"].dt.year == 2024]\n",
    "df_filtered"
   ],
   "metadata": {
    "collapsed": false
   },
   "id": "95e9bc7f52f202eb"
  },
  {
   "cell_type": "code",
   "outputs": [],
   "source": [
    "from tqdm import tqdm\n",
    "# iterates over dataframe\n",
    "for index, row in tqdm(df.iterrows()):\n",
    "    created_at = row[\"created_at\"]\n",
    "    last_modified = row[\"last_modified\"]\n",
    "    repo_files = row[\"siblings\"]\n",
    "    print(created_at, last_modified, repo_files)\n",
    "    break\n",
    "    # if created_at.year <= 2022 and last_modified.year == 2024:\n",
    "    #     print(row[\"modelId\"], created_at, last_modified, repo_files)\n",
    "    #     break"
   ],
   "metadata": {
    "collapsed": false,
    "is_executing": true
   },
   "id": "e85e66039e5e8778",
   "execution_count": null
  },
  {
   "cell_type": "code",
   "outputs": [],
   "source": [
    "    if repo_files:\n",
    "        for file in repo_files:\n",
    "            extension = file.rsplit(\".\", 2)[-1]\n",
    "            if extension in MODEL_FILE_EXTENSIONS:\n",
    "                print(row[\"modelId\"], file, extension)\n",
    "# find models that are created before a target year\n",
    "year = 2022\n",
    "output_csv = output_file.with_name(output_file.stem + \"_model_files_filtered_2020.csv\")\n",
    "with open(output_csv, \"w\") as f:\n",
    "    csv_writer = csv.writer(f, delimiter=\",\", quotechar='\"', quoting=csv.QUOTE_MINIMAL, lineterminator=\"\\n\")\n",
    "    csv_writer.writerow([\"repo\", \"model_file\", \"extension\"])\n",
    "    for model in results_dict[\"results\"]:\n",
    "        repo_files = model.get(\"siblings\", [])\n",
    "        if model[\"created_at\"].year <= 2022 and repo_files:\n",
    "            for file in repo_files:\n",
    "                extension = file.rfilename.rsplit(\".\", 2)[-1]\n",
    "                if extension in MODEL_FILE_EXTENSIONS:\n",
    "                    csv_writer.writerow([model[\"modelId\"], file.rfilename, extension])"
   ],
   "metadata": {
    "collapsed": false
   },
   "id": "d89ea51386258a18"
  }
 ],
 "metadata": {
  "kernelspec": {
   "display_name": "Python 3",
   "language": "python",
   "name": "python3"
  },
  "language_info": {
   "codemirror_mode": {
    "name": "ipython",
    "version": 2
   },
   "file_extension": ".py",
   "mimetype": "text/x-python",
   "name": "python",
   "nbconvert_exporter": "python",
   "pygments_lexer": "ipython2",
   "version": "2.7.6"
  }
 },
 "nbformat": 4,
 "nbformat_minor": 5
}
