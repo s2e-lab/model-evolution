{
 "cells": [
  {
   "cell_type": "markdown",
   "source": [
    "# RQ4: How frequently do developers use the conversion functions?\n"
   ],
   "metadata": {
    "collapsed": false
   },
   "id": "bd8a032efa35951e"
  },
  {
   "cell_type": "code",
   "execution_count": 4,
   "outputs": [],
   "source": [
    "import pandas as pd\n",
    "from pathlib import Path\n",
    "# Load the dataset\n",
    "df = pd.read_csv(Path('../../data/sfconvertbot_pr_metadata.csv'))\n",
    "# set NaN values to None\n",
    "df = df.where(pd.notnull(df), None)"
   ],
   "metadata": {
    "collapsed": false,
    "ExecuteTime": {
     "end_time": "2024-11-02T00:59:49.411031Z",
     "start_time": "2024-11-02T00:59:49.004981800Z"
    }
   },
   "id": "1dde6787433fbd3d"
  },
  {
   "cell_type": "code",
   "execution_count": 15,
   "outputs": [
    {
     "name": "stderr",
     "output_type": "stream",
     "text": [
      "100%|██████████| 7823/7823 [00:00<00:00, 8086.26it/s]\n"
     ]
    },
    {
     "data": {
      "text/plain": "{'comment', 'commit', 'status-change'}"
     },
     "execution_count": 15,
     "metadata": {},
     "output_type": "execute_result"
    }
   ],
   "source": [
    "from tqdm import tqdm\n",
    "import json\n",
    "all_events = set()\n",
    "\n",
    "# Count the number of times each conversion function is used\n",
    "# iterate over dataframe\n",
    "for index, row in tqdm(df.iterrows(), total=len(df)):\n",
    "    discussion_metadata = row['discussion_metadata']\n",
    "    # check if is valid JSON\n",
    "    if not discussion_metadata or discussion_metadata == 'None' or not discussion_metadata.startswith('{'):\n",
    "        # remove from dataframe\n",
    "        df.drop(index, inplace=True)\n",
    "        continue\n",
    "\n",
    "\n",
    "    # parse as JSON\n",
    "    discussion_metadata = json.loads(discussion_metadata)\n",
    "\n",
    "    events = discussion_metadata['discussion']['events']\n",
    "    \n",
    "    # add a column to track status changes\n",
    "    status_changes = []\n",
    "    \n",
    "    for event in events:\n",
    "        # print(\"\\t\",event)\n",
    "        event_type = event['type']\n",
    "        if event_type == 'status-change':\n",
    "            status_changes.append(event['data']['status'])\n",
    "        all_events.add(event_type)\n",
    "            \n",
    "    # add a column to track status changes\n",
    "    df.at[index, 'status_changes'] = \";\".join(status_changes)\n",
    "df\n",
    "all_events"
   ],
   "metadata": {
    "collapsed": false,
    "ExecuteTime": {
     "end_time": "2024-11-02T01:20:46.163061500Z",
     "start_time": "2024-11-02T01:20:45.183114200Z"
    }
   },
   "id": "1187e91f7aa44b8d"
  },
  {
   "cell_type": "code",
   "execution_count": 19,
   "outputs": [
    {
     "name": "stderr",
     "output_type": "stream",
     "text": [
      "  1%|          | 40/7823 [00:03<12:00, 10.80it/s]"
     ]
    },
    {
     "name": "stdout",
     "output_type": "stream",
     "text": [
      "https://huggingface.co/eimiss/EimisAnimeDiffusion_1.0v/discussions/15\n"
     ]
    },
    {
     "name": "stderr",
     "output_type": "stream",
     "text": [
      "\n"
     ]
    }
   ],
   "source": [
    "import requests\n",
    "# iterate over dataframe for empty status changes\n",
    "for index, row in tqdm(df.iterrows(), total=len(df)):\n",
    "    status_changes = row['status_changes']\n",
    "    if not status_changes:\n",
    "        # make an HTTP request to check if there is a merge conflict\n",
    "        pr_url = row['pr_url']\n",
    "        response = requests.get(pr_url)\n",
    "        if response.status_code == 200:\n",
    "            # check if merge conflict\n",
    "            if 'conflict' in response.text:\n",
    "                df.at[index, 'status_changes'] = 'CONFLICT'\n",
    "                print(pr_url)\n",
    "                break\n",
    "            # else:\n",
    "            #     df.at[index, 'status_changes'] = 'UNKNOWN'\n",
    "        "
   ],
   "metadata": {
    "collapsed": false,
    "ExecuteTime": {
     "end_time": "2024-11-02T01:24:57.686715400Z",
     "start_time": "2024-11-02T01:24:53.962368Z"
    }
   },
   "id": "30567befc98113f6"
  },
  {
   "cell_type": "code",
   "execution_count": null,
   "outputs": [],
   "source": [
    "\n",
    "import matplotlib.pyplot as plt\n",
    "\n",
    "# POlot the distribution of status changes only for those with status changes\n",
    "df.value_counts().plot(kind='bar')\n",
    "plt.show()\n",
    "\n"
   ],
   "metadata": {
    "collapsed": false,
    "ExecuteTime": {
     "end_time": "2024-11-02T01:19:33.411413100Z",
     "start_time": "2024-11-02T01:19:33.411413100Z"
    }
   },
   "id": "8901eb73b02416cf"
  }
 ],
 "metadata": {
  "kernelspec": {
   "display_name": "Python 3",
   "language": "python",
   "name": "python3"
  },
  "language_info": {
   "codemirror_mode": {
    "name": "ipython",
    "version": 2
   },
   "file_extension": ".py",
   "mimetype": "text/x-python",
   "name": "python",
   "nbconvert_exporter": "python",
   "pygments_lexer": "ipython2",
   "version": "2.7.6"
  }
 },
 "nbformat": 4,
 "nbformat_minor": 5
}
