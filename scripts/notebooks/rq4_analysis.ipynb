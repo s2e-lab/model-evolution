{
 "cells": [
  {
   "cell_type": "markdown",
   "id": "bd8a032efa35951e",
   "metadata": {
    "collapsed": false
   },
   "source": [
    "# RQ4: How frequently do developers use the conversion functions?\n"
   ]
  },
  {
   "cell_type": "markdown",
   "id": "470cb6d282064252",
   "metadata": {
    "collapsed": false
   },
   "source": [
    "## Data Preparation"
   ]
  },
  {
   "cell_type": "code",
   "execution_count": null,
   "id": "1dde6787433fbd3d",
   "metadata": {
    "collapsed": false
   },
   "outputs": [],
   "source": [
    "from pathlib import Path\n",
    "\n",
    "import pandas as pd\n",
    "# extracted compressed results\n",
    "!unzip -o ../../data/sfconvertbot_pr_metadata.csv.zip -d ../../data\n",
    "# Load the dataset\n",
    "df = pd.read_csv(Path('../../data/sfconvertbot_pr_metadata.csv'))\n",
    "print(\"Number of PRs: \", len(df))\n",
    "\n",
    "# remove rows with missing values\n",
    "df = df.dropna()\n",
    "print(\"Number of PRs after removing missing values: \", len(df))\n",
    "\n",
    "# remove rows with invalid JSONs\n",
    "df = df[df['discussion_metadata'].str.startswith('{')]\n",
    "print(\"Number of PRs after removing invalid JSONs: \", len(df))\n",
    "\n",
    "# add a date column\n",
    "df['date'] = df['time'].str.split('T').str[0]\n",
    "df['date'] = df['date'].str.split(' ').str[0]\n",
    "# ensure date column is a datetime object\n",
    "df['date'] = pd.to_datetime(df['date'])\n",
    "# filter in place, keep only commits before Oct 31 2024 (including)\n",
    "df = df[df['date'] <= pd.Timestamp(2024, 10, 31)]\n",
    "print(\"Number of PRs after filtering by date: \", len(df))\n",
    "\n",
    "# remove the extracted zip file\n",
    "!rm ../../data/sfconvertbot_pr_metadata.csv"
   ]
  },
  {
   "cell_type": "markdown",
   "id": "eb57b2f1582f98e2",
   "metadata": {
    "collapsed": false
   },
   "source": [
    "## Identify Relevant Discussions\n",
    "\n",
    "Criteria:\n",
    "1. PR has at least two non-empty comment.\n",
    "2. PR has at least two different authors (not counting the SFConvertBot) engaging in the discussion.\n",
    "3. The average comment size is more than 4 words."
   ]
  },
  {
   "cell_type": "code",
   "execution_count": 76,
   "id": "5bee79157e513178",
   "metadata": {
    "collapsed": false,
    "ExecuteTime": {
     "end_time": "2024-11-03T16:07:16.495746Z",
     "start_time": "2024-11-03T16:07:12.203342Z"
    }
   },
   "outputs": [
    {
     "name": "stderr",
     "output_type": "stream",
     "text": [
      "100%|██████████| 45072/45072 [00:04<00:00, 10550.82it/s]"
     ]
    },
    {
     "name": "stdout",
     "output_type": "stream",
     "text": [
      "Number of PRs after filtering:  15\n",
      "Saved to:  ../../results/sfconvertbot_pr_metadata_filtered.csv\n"
     ]
    },
    {
     "name": "stderr",
     "output_type": "stream",
     "text": [
      "\n"
     ]
    }
   ],
   "source": [
    "from nb_utils import RESULTS_DIR\n",
    "from tqdm import tqdm\n",
    "import json\n",
    "\n",
    "min_num_authors = 2\n",
    "min_num_comments = 2\n",
    "min_avg_comment_size = 0\n",
    "\n",
    "output_file = RESULTS_DIR / 'sfconvertbot_pr_metadata_filtered.csv'\n",
    "# create a dataframe to store the filtered PRs\n",
    "df_filtered = pd.DataFrame(columns=df.columns)\n",
    "# create lambda function that checks whether string.lower() == 'sfconvertbot'\n",
    "is_sfconvertbot = lambda x: x.lower() == 'sfconvertbot'\n",
    "\n",
    "# iterate over dataframe\n",
    "for index, row in tqdm(df.iterrows(), total=len(df)):\n",
    "    # parse as JSON (it should be a string)\n",
    "    discussion = json.loads(row['discussion_metadata'])['discussion']\n",
    "    # extract events and original author\n",
    "    events = discussion['events']\n",
    "    original_author = discussion['author']\n",
    "    # criteria:\n",
    "    num_words, num_non_empty_comments = 0, 0\n",
    "    authors = set()\n",
    "    if not is_sfconvertbot(original_author[\"name\"]):\n",
    "        authors.add(original_author[\"name\"])\n",
    "\n",
    "    for event in events:\n",
    "        # print(\"\\t\",event)\n",
    "        event_type = event['type']\n",
    "        if event_type == 'comment' and not event['data']['hidden']:\n",
    "            event_author = event['author']\n",
    "            num_non_empty_comments += 1\n",
    "            if not is_sfconvertbot(event_author[\"name\"]):\n",
    "                authors.add(event_author[\"name\"])\n",
    "            num_words += len(event['data']['latest']['raw'].split())\n",
    "\n",
    "    should_include = (num_non_empty_comments >= min_num_comments and\n",
    "                      len(authors) >= min_num_authors and\n",
    "                      num_words / num_non_empty_comments >= min_avg_comment_size)\n",
    "    # add the row to the filtered dataframe\n",
    "    if should_include:\n",
    "        df_filtered.loc[len(df_filtered)] = row\n",
    "        title = f\"{discussion['title']} by {original_author['name']} ({row['model_id']})\"\n",
    "        df_filtered.loc[len(df_filtered) - 1, 'title'] = title\n",
    "        df_filtered.loc[len(df_filtered) - 1, 'num_comments'] = num_non_empty_comments\n",
    "        df_filtered.loc[len(df_filtered) - 1, 'num_authors'] = len(authors)\n",
    "        df_filtered.loc[len(df_filtered) - 1, 'avg_comment_size'] = num_words / num_non_empty_comments\n",
    "        df_filtered.loc[len(df_filtered) - 1, 'authors'] = \";\".join(authors)\n",
    "        \n",
    "# add a source column\n",
    "df_filtered['source'] = 'SFConvertBot PRs'\n",
    "# rename PR URL column to url\n",
    "df_filtered.rename(columns={'pr_url': 'url'}, inplace=True)\n",
    "# rename discussion_metadata to json_content\n",
    "df_filtered.rename(columns={'discussion_metadata': 'json_content'}, inplace=True)\n",
    "# reorder columns\n",
    "df_filtered = df_filtered[['source', 'title', 'url', 'num_comments', 'num_authors', 'avg_comment_size', 'authors']]\n",
    "# save the filtered dataframe\n",
    "df_filtered.to_csv(output_file, index=False)\n",
    "print(\"Number of PRs after filtering: \", len(df_filtered))\n",
    "print(\"Saved to: \", output_file)"
   ]
  },
  {
   "cell_type": "markdown",
   "id": "c2e21ce8d04995bd",
   "metadata": {
    "collapsed": false
   },
   "source": [
    "## Extracting Conversion Functions"
   ]
  },
  {
   "cell_type": "code",
   "execution_count": null,
   "id": "1187e91f7aa44b8d",
   "metadata": {
    "collapsed": false
   },
   "outputs": [],
   "source": [
    "from tqdm import tqdm\n",
    "import json\n",
    "\n",
    "# Extract status changes from discussion metadata\n",
    "for index, row in tqdm(df.iterrows(), total=len(df)):\n",
    "    status_changes = []\n",
    "    df.at[index, 'conflicts'] = \"\"\n",
    "    try:\n",
    "        discussion = json.loads(row['discussion_metadata'])\n",
    "        for event in discussion['discussion']['events']:\n",
    "            event_type = event['type']\n",
    "            if event_type == 'status-change':\n",
    "                status_changes.append(event['data']['status'])\n",
    "    except:\n",
    "        pass\n",
    "    try:\n",
    "        header_metadata = json.loads(row['header_metadata'])\n",
    "        df.at[index, 'status'] = header_metadata['discussion']['status']\n",
    "        # check if there are conflicting files\n",
    "        conflicting_files = header_metadata['discussion']['filesWithConflicts']\n",
    "        df.at[index, 'conflicts'] = \";\".join(conflicting_files)\n",
    "    except:\n",
    "        pass\n",
    "\n",
    "    # add a column to track status changes\n",
    "    df.at[index, 'status_changes'] = \";\".join(status_changes)\n",
    "df\n"
   ]
  },
  {
   "cell_type": "code",
   "execution_count": null,
   "id": "8901eb73b02416cf",
   "metadata": {
    "collapsed": false
   },
   "outputs": [],
   "source": [
    "\n",
    "import matplotlib.pyplot as plt\n",
    "\n",
    "status_distribution = df['status'].value_counts()\n",
    "# Plot the status distribution horizontally\n",
    "status_distribution.plot(kind='barh', color=['black', 'green', 'red'])\n",
    "\n",
    "# Add title and labels\n",
    "plt.title('Pull Request Status Distribution')\n",
    "plt.xlabel('Status')\n",
    "plt.ylabel('# Pull Requests')\n",
    "plt.show()\n",
    "\n",
    "# show pie chart\n",
    "status_distribution.plot.pie(autopct='%1.1f%%')"
   ]
  },
  {
   "cell_type": "markdown",
   "id": "669b642cd6febc2f",
   "metadata": {
    "collapsed": false
   },
   "source": [
    "## Merge Conflict Analysis"
   ]
  },
  {
   "cell_type": "code",
   "execution_count": null,
   "id": "a4e9370ac3b5dd70",
   "metadata": {
    "collapsed": false
   },
   "outputs": [],
   "source": [
    "# how many rows with non-empty values in 'conflicts' column\n",
    "conflicts = df[df['conflicts'] != \"\"]\n",
    "\n",
    "print(\"Number of PRs: \", len(df))\n",
    "print(\"Number of PRs with conflicts: \", len(conflicts))\n",
    "print(\"Percentage of PRs with conflicts: \", len(conflicts) / len(df) * 100)\n",
    "print(\"Number of PRs without conflicts: \", len(df) - len(conflicts))\n",
    "print(\"Percentage of PRs without conflicts: \", (len(df) - len(conflicts)) / len(df) * 100)\n",
    "\n",
    "# plot status distribution for conflicts\n",
    "conflicts_status_distribution = conflicts['status'].value_counts()\n",
    "conflicts_status_distribution.plot(kind='barh', color=['black', 'green', 'red'])\n",
    "# add title and labels\n",
    "plt.title('Pull Request Status Distribution with Conflicts')\n",
    "plt.xlabel('Status')\n",
    "plt.ylabel('# Pull Requests')\n",
    "plt.show()\n",
    "# show pie chart\n",
    "conflicts_status_distribution.plot.pie(autopct='%1.1f%%')\n",
    "# add title and labels\n",
    "plt.title('Pull Request Status Distribution with Conflicts')\n",
    "plt.show()\n"
   ]
  },
  {
   "cell_type": "code",
   "execution_count": null,
   "id": "21af633e443adb11",
   "metadata": {
    "collapsed": false
   },
   "outputs": [],
   "source": []
  }
 ],
 "metadata": {
  "kernelspec": {
   "display_name": "Python 3 (ipykernel)",
   "language": "python",
   "name": "python3"
  },
  "language_info": {
   "codemirror_mode": {
    "name": "ipython",
    "version": 3
   },
   "file_extension": ".py",
   "mimetype": "text/x-python",
   "name": "python",
   "nbconvert_exporter": "python",
   "pygments_lexer": "ipython3",
   "version": "3.10.11"
  }
 },
 "nbformat": 4,
 "nbformat_minor": 5
}
