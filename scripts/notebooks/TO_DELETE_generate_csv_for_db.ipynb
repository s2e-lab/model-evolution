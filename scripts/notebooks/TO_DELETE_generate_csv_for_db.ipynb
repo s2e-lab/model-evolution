{
 "cells": [
  {
   "cell_type": "code",
   "execution_count": 10,
   "id": "initial_id",
   "metadata": {
    "collapsed": true,
    "ExecuteTime": {
     "end_time": "2024-11-05T17:03:18.543953Z",
     "start_time": "2024-11-05T17:03:18.507027Z"
    }
   },
   "outputs": [],
   "source": [
    "import pandas as pd\n",
    "import numpy as np\n",
    "import os\n",
    "import re\n",
    "import json\n",
    "df = pd.read_csv('../../data/converter_discussions.csv')\n",
    "df['source'] = 'Converter Discussions'\n",
    "\n",
    "for index, row in df.iterrows():\n",
    "    header = row['header']\n",
    "    json_header = json.loads(header)\n",
    "    df.at[index, 'title'] = json_header['discussion']['title']\n",
    "    df.at[index, 'is_true_positive'] = 1\n",
    "    df.at[index, 'comments'] = None\n",
    "    df.at[index, 'id'] = index + 8000\n",
    "    df.at[index, 'cosine_similarity'] = None\n",
    "    df.at[index, 'content'] = row['events']\n",
    "\n",
    "# slice frame to keep only these columns in this order id, source, content, is_true_positive, comments, cosine_similarity\n",
    "df = df[['id', 'source', 'content', 'is_true_positive', 'comments', 'cosine_similarity']]\n",
    "df.to_csv('../../data/converter_discussions_db.csv', index=False)\n"
   ]
  },
  {
   "cell_type": "code",
   "outputs": [],
   "source": [],
   "metadata": {
    "collapsed": false
   },
   "id": "d07ad896153b5e0f"
  }
 ],
 "metadata": {
  "kernelspec": {
   "display_name": "Python 3",
   "language": "python",
   "name": "python3"
  },
  "language_info": {
   "codemirror_mode": {
    "name": "ipython",
    "version": 2
   },
   "file_extension": ".py",
   "mimetype": "text/x-python",
   "name": "python",
   "nbconvert_exporter": "python",
   "pygments_lexer": "ipython2",
   "version": "2.7.6"
  }
 },
 "nbformat": 4,
 "nbformat_minor": 5
}
