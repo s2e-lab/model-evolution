{
 "cells": [
  {
   "cell_type": "markdown",
   "source": [],
   "metadata": {
    "collapsed": false
   },
   "id": "646a9817a24d92fe"
  },
  {
   "cell_type": "markdown",
   "source": [
    "# Using cosine similarity to find relevant pull requests and posts"
   ],
   "metadata": {
    "collapsed": false
   },
   "id": "100aec5887172641"
  },
  {
   "cell_type": "markdown",
   "source": [
    "## Function to compute cosine similarity"
   ],
   "metadata": {
    "collapsed": false
   },
   "id": "7d514adb9003b6f"
  },
  {
   "cell_type": "code",
   "execution_count": 11,
   "outputs": [],
   "source": [
    "import pandas as pd\n",
    "from sklearn.feature_extraction.text import TfidfVectorizer\n",
    "from sklearn.metrics.pairwise import cosine_similarity\n",
    "\n",
    "def compute_similarity(query:str, df: pd.DataFrame, text_column:str):\n",
    "    \"\"\"\n",
    "    Compute cosine similarity between a query and a dataframe of text data\n",
    "    \"\"\"\n",
    "    # Combine relevant text columns for vectorization\n",
    "    df['combined_text'] = df[[text_column]].fillna('').apply(lambda row: ' '.join(row.values.astype(str)), axis=1)\n",
    "\n",
    "    # Vectorize the text data\n",
    "    vectorizer = TfidfVectorizer(stop_words='english')\n",
    "    tfidf_matrix = vectorizer.fit_transform(df['combined_text'])\n",
    "    query_vec = vectorizer.transform([query])\n",
    "\n",
    "    # Calculate cosine similarity between the query and all documents\n",
    "    return cosine_similarity(query_vec, tfidf_matrix).flatten()"
   ],
   "metadata": {
    "collapsed": false,
    "ExecuteTime": {
     "end_time": "2024-10-28T00:12:00.279895Z",
     "start_time": "2024-10-28T00:12:00.272254Z"
    }
   },
   "id": "6939b228013f9024"
  },
  {
   "cell_type": "markdown",
   "source": [
    "## Load data"
   ],
   "metadata": {
    "collapsed": false
   },
   "id": "100dfa73bb06b395"
  },
  {
   "cell_type": "code",
   "execution_count": 25,
   "id": "a0a55fca303dba2",
   "metadata": {
    "collapsed": false,
    "ExecuteTime": {
     "end_time": "2024-10-27T19:40:48.072894200Z",
     "start_time": "2024-10-27T19:40:44.148322300Z"
    }
   },
   "outputs": [],
   "source": [
    "df_github = pd.read_csv('../../data/GH_data_safetensor.csv')\n",
    "df_so = pd.read_csv('../../data/SO_data_safetensor.csv')\n",
    "\n",
    "query = \"model serialization safetensors\"\n",
    "cosine_similarities = compute_similarity(query, df_github, 'json content')\n",
    "df_github['cosine_similarity'] = cosine_similarities\n"
   ]
  },
  {
   "cell_type": "code",
   "execution_count": 26,
   "outputs": [],
   "source": [
    "\n",
    "# sort by cosine similarity (descending)\n",
    "df_github = df_github.sort_values(by='cosine_similarity', ascending=False)\n",
    "# keep only the headers source, and json_content \n",
    "df_github = df_github[['source', 'json content']]\n",
    "# rename json content to content\n",
    "df_github = df_github.rename(columns={'json content': 'content'})\n",
    "\n",
    "df_github.to_csv('../../data/GH_data_safetensor_similarity.csv', index=False)"
   ],
   "metadata": {
    "collapsed": false,
    "ExecuteTime": {
     "end_time": "2024-10-27T19:42:05.756729Z",
     "start_time": "2024-10-27T19:42:04.739901200Z"
    }
   },
   "id": "initial_id"
  },
  {
   "cell_type": "code",
   "outputs": [
    {
     "data": {
      "text/plain": "      id         source                                            content  \\\n31    31  StackOverflow  {\"tags\": [\"huggingface-transformers\", \"large-l...   \n15    15  StackOverflow  {\"tags\": [\"huggingface-transformers\", \"hugging...   \n32    32  StackOverflow  {\"tags\": [\"python\", \"huggingface-transformers\"...   \n18    18  StackOverflow  {\"tags\": [\"pytorch\", \"nlp\", \"huggingface-trans...   \n10    10  StackOverflow  {\"tags\": [\"python\", \"large-language-model\", \"p...   \n..   ...            ...                                                ...   \n132  132  StackOverflow  {\"tags\": [\"tensorflow\", \"gcc\", \"infrastructure...   \n134  134  StackOverflow  {\"tags\": [\"libtorch\"], \"question_score\": 0, \"i...   \n136  136  StackOverflow  {\"tags\": [\"c++\", \"tensorflow\", \"eigen\"], \"ques...   \n137  137  StackOverflow  {\"tags\": [\"tensorflow\", \"gradient-descent\"], \"...   \n103  103  StackOverflow  {\"tags\": [\"pytorch\", \"saving-data\"], \"question...   \n\n     is_true_positive comments  \\\n31                  1            \n15                  0     None   \n32                  1            \n18                  1            \n10                  1            \n..                ...      ...   \n132                 0            \n134                 0            \n136                 0     None   \n137                 0     None   \n103                 0            \n\n                                         combined_text  cosine_similarity  \n31   {\"tags\": [\"huggingface-transformers\", \"large-l...           0.165931  \n15   {\"tags\": [\"huggingface-transformers\", \"hugging...           0.134701  \n32   {\"tags\": [\"python\", \"huggingface-transformers\"...           0.117234  \n18   {\"tags\": [\"pytorch\", \"nlp\", \"huggingface-trans...           0.108763  \n10   {\"tags\": [\"python\", \"large-language-model\", \"p...           0.102464  \n..                                                 ...                ...  \n132  {\"tags\": [\"tensorflow\", \"gcc\", \"infrastructure...           0.000000  \n134  {\"tags\": [\"libtorch\"], \"question_score\": 0, \"i...           0.000000  \n136  {\"tags\": [\"c++\", \"tensorflow\", \"eigen\"], \"ques...           0.000000  \n137  {\"tags\": [\"tensorflow\", \"gradient-descent\"], \"...           0.000000  \n103  {\"tags\": [\"pytorch\", \"saving-data\"], \"question...           0.000000  \n\n[268 rows x 7 columns]",
      "text/html": "<div>\n<style scoped>\n    .dataframe tbody tr th:only-of-type {\n        vertical-align: middle;\n    }\n\n    .dataframe tbody tr th {\n        vertical-align: top;\n    }\n\n    .dataframe thead th {\n        text-align: right;\n    }\n</style>\n<table border=\"1\" class=\"dataframe\">\n  <thead>\n    <tr style=\"text-align: right;\">\n      <th></th>\n      <th>id</th>\n      <th>source</th>\n      <th>content</th>\n      <th>is_true_positive</th>\n      <th>comments</th>\n      <th>combined_text</th>\n      <th>cosine_similarity</th>\n    </tr>\n  </thead>\n  <tbody>\n    <tr>\n      <th>31</th>\n      <td>31</td>\n      <td>StackOverflow</td>\n      <td>{\"tags\": [\"huggingface-transformers\", \"large-l...</td>\n      <td>1</td>\n      <td></td>\n      <td>{\"tags\": [\"huggingface-transformers\", \"large-l...</td>\n      <td>0.165931</td>\n    </tr>\n    <tr>\n      <th>15</th>\n      <td>15</td>\n      <td>StackOverflow</td>\n      <td>{\"tags\": [\"huggingface-transformers\", \"hugging...</td>\n      <td>0</td>\n      <td>None</td>\n      <td>{\"tags\": [\"huggingface-transformers\", \"hugging...</td>\n      <td>0.134701</td>\n    </tr>\n    <tr>\n      <th>32</th>\n      <td>32</td>\n      <td>StackOverflow</td>\n      <td>{\"tags\": [\"python\", \"huggingface-transformers\"...</td>\n      <td>1</td>\n      <td></td>\n      <td>{\"tags\": [\"python\", \"huggingface-transformers\"...</td>\n      <td>0.117234</td>\n    </tr>\n    <tr>\n      <th>18</th>\n      <td>18</td>\n      <td>StackOverflow</td>\n      <td>{\"tags\": [\"pytorch\", \"nlp\", \"huggingface-trans...</td>\n      <td>1</td>\n      <td></td>\n      <td>{\"tags\": [\"pytorch\", \"nlp\", \"huggingface-trans...</td>\n      <td>0.108763</td>\n    </tr>\n    <tr>\n      <th>10</th>\n      <td>10</td>\n      <td>StackOverflow</td>\n      <td>{\"tags\": [\"python\", \"large-language-model\", \"p...</td>\n      <td>1</td>\n      <td></td>\n      <td>{\"tags\": [\"python\", \"large-language-model\", \"p...</td>\n      <td>0.102464</td>\n    </tr>\n    <tr>\n      <th>...</th>\n      <td>...</td>\n      <td>...</td>\n      <td>...</td>\n      <td>...</td>\n      <td>...</td>\n      <td>...</td>\n      <td>...</td>\n    </tr>\n    <tr>\n      <th>132</th>\n      <td>132</td>\n      <td>StackOverflow</td>\n      <td>{\"tags\": [\"tensorflow\", \"gcc\", \"infrastructure...</td>\n      <td>0</td>\n      <td></td>\n      <td>{\"tags\": [\"tensorflow\", \"gcc\", \"infrastructure...</td>\n      <td>0.000000</td>\n    </tr>\n    <tr>\n      <th>134</th>\n      <td>134</td>\n      <td>StackOverflow</td>\n      <td>{\"tags\": [\"libtorch\"], \"question_score\": 0, \"i...</td>\n      <td>0</td>\n      <td></td>\n      <td>{\"tags\": [\"libtorch\"], \"question_score\": 0, \"i...</td>\n      <td>0.000000</td>\n    </tr>\n    <tr>\n      <th>136</th>\n      <td>136</td>\n      <td>StackOverflow</td>\n      <td>{\"tags\": [\"c++\", \"tensorflow\", \"eigen\"], \"ques...</td>\n      <td>0</td>\n      <td>None</td>\n      <td>{\"tags\": [\"c++\", \"tensorflow\", \"eigen\"], \"ques...</td>\n      <td>0.000000</td>\n    </tr>\n    <tr>\n      <th>137</th>\n      <td>137</td>\n      <td>StackOverflow</td>\n      <td>{\"tags\": [\"tensorflow\", \"gradient-descent\"], \"...</td>\n      <td>0</td>\n      <td>None</td>\n      <td>{\"tags\": [\"tensorflow\", \"gradient-descent\"], \"...</td>\n      <td>0.000000</td>\n    </tr>\n    <tr>\n      <th>103</th>\n      <td>103</td>\n      <td>StackOverflow</td>\n      <td>{\"tags\": [\"pytorch\", \"saving-data\"], \"question...</td>\n      <td>0</td>\n      <td></td>\n      <td>{\"tags\": [\"pytorch\", \"saving-data\"], \"question...</td>\n      <td>0.000000</td>\n    </tr>\n  </tbody>\n</table>\n<p>268 rows × 7 columns</p>\n</div>"
     },
     "execution_count": 13,
     "metadata": {},
     "output_type": "execute_result"
    }
   ],
   "source": [
    "import sqlite3\n",
    "from sklearn.feature_extraction.text import TfidfVectorizer\n",
    "from sklearn.metrics.pairwise import cosine_similarity\n",
    "import pandas as pd\n",
    "\n",
    "# Connect to the SQLite database\n",
    "conn = sqlite3.connect('../../results/db_model_evolution.sqlite3')\n",
    "\n",
    "# Create a cursor object\n",
    "cursor = conn.cursor()\n",
    "\n",
    "# Execute a SQL query\n",
    "cursor.execute('SELECT id, source, content, is_true_positive, comments FROM model_evolution_post')\n",
    "\n",
    "# fetch all the results in a data frame\n",
    "rows = cursor.fetchall()\n",
    "df = pd.DataFrame(rows, columns=['id','source', 'content', 'is_true_positive', 'comments'])\n",
    "\n",
    "\n",
    "# Calculate cosine similarity between the query and all documents\n",
    "cosine_similarities = compute_similarity(query, df, 'content')\n",
    "\n",
    "# sort by cosine similarity (descending)\n",
    "df['cosine_similarity'] = cosine_similarities\n",
    "df = df.sort_values(by='cosine_similarity', ascending=False)\n",
    "\n",
    "# make index start at 1\n",
    "df.index = df.index + 1\n",
    "\n",
    "# keep only the headers source, and content\n",
    "\n",
    "df.to_csv('../../data/SO_data_safetensor_similarity.csv', index=False)\n",
    "df"
   ],
   "metadata": {
    "collapsed": false,
    "ExecuteTime": {
     "end_time": "2024-10-28T00:15:18.731459Z",
     "start_time": "2024-10-28T00:15:18.632208Z"
    }
   },
   "id": "c45f4959a578dea3",
   "execution_count": 13
  }
 ],
 "metadata": {
  "kernelspec": {
   "display_name": "Python 3",
   "language": "python",
   "name": "python3"
  },
  "language_info": {
   "codemirror_mode": {
    "name": "ipython",
    "version": 2
   },
   "file_extension": ".py",
   "mimetype": "text/x-python",
   "name": "python",
   "nbconvert_exporter": "python",
   "pygments_lexer": "ipython2",
   "version": "2.7.6"
  }
 },
 "nbformat": 4,
 "nbformat_minor": 5
}
