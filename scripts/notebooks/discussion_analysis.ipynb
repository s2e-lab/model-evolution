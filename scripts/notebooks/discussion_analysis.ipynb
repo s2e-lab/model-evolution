{
 "cells": [
  {
   "cell_type": "markdown",
   "source": [],
   "metadata": {
    "collapsed": false
   },
   "id": "646a9817a24d92fe"
  },
  {
   "cell_type": "code",
   "execution_count": 5,
   "id": "a0a55fca303dba2",
   "metadata": {
    "collapsed": false,
    "ExecuteTime": {
     "end_time": "2024-10-27T18:57:41.373214Z",
     "start_time": "2024-10-27T18:57:41.010653Z"
    }
   },
   "outputs": [
    {
     "data": {
      "text/plain": "      source                                              title  \\\n0     GitHub                                        Safetensors   \n1     GitHub                                Safetensors support   \n2     GitHub                        Add support for safetensors   \n3     GitHub                        update readme - safetensors   \n4     GitHub     Clarify \"Load Model\" SafeTensors documentation   \n...      ...                                                ...   \n4169  GitHub  Added flip function (to a tensor up to 5D alon...   \n4170  GitHub                    Add torch.view and torch.viewAs   \n4171  GitHub      Stash computed form on tensor for re-assembly   \n4172  GitHub                                         Clover QPX   \n4173  GitHub  WIP: refactor basic.py, extract sorting functi...   \n\n                                                    url  \\\n0        https://github.com/pytorch/torchchat/pull/1255   \n1            https://github.com/urchade/GLiNER/pull/190   \n2        https://github.com/MinishLab/model2vec/pull/36   \n3     https://github.com/facebookresearch/vfusion3d/...   \n4     https://github.com/chaiNNer-org/chaiNNer/pull/...   \n...                                                 ...   \n4169             https://github.com/torch/image/pull/60   \n4170            https://github.com/torch/torch7/pull/50   \n4171  https://github.com/firedrakeproject/firedrake/...   \n4172            https://github.com/etmc/tmLQCD/pull/228   \n4173          https://github.com/Theano/Theano/pull/615   \n\n                                           json content  \n0     {\"title\": \"Safetensors\", \"url\": \"https://githu...  \n1     {\"title\": \"Safetensors support\", \"url\": \"https...  \n2     {\"title\": \"Add support for safetensors\", \"url\"...  \n3     {\"title\": \"update readme - safetensors\", \"url\"...  \n4     {\"title\": \"Clarify \\\"Load Model\\\" SafeTensors ...  \n...                                                 ...  \n4169  {\"title\": \"Added flip function (to a tensor up...  \n4170  {\"title\": \"Add torch.view and torch.viewAs\", \"...  \n4171  {\"title\": \"Stash computed form on tensor for r...  \n4172  {\"title\": \"Clover QPX\", \"url\": \"https://github...  \n4173  {\"title\": \"WIP: refactor basic.py, extract sor...  \n\n[4174 rows x 4 columns]",
      "text/html": "<div>\n<style scoped>\n    .dataframe tbody tr th:only-of-type {\n        vertical-align: middle;\n    }\n\n    .dataframe tbody tr th {\n        vertical-align: top;\n    }\n\n    .dataframe thead th {\n        text-align: right;\n    }\n</style>\n<table border=\"1\" class=\"dataframe\">\n  <thead>\n    <tr style=\"text-align: right;\">\n      <th></th>\n      <th>source</th>\n      <th>title</th>\n      <th>url</th>\n      <th>json content</th>\n    </tr>\n  </thead>\n  <tbody>\n    <tr>\n      <th>0</th>\n      <td>GitHub</td>\n      <td>Safetensors</td>\n      <td>https://github.com/pytorch/torchchat/pull/1255</td>\n      <td>{\"title\": \"Safetensors\", \"url\": \"https://githu...</td>\n    </tr>\n    <tr>\n      <th>1</th>\n      <td>GitHub</td>\n      <td>Safetensors support</td>\n      <td>https://github.com/urchade/GLiNER/pull/190</td>\n      <td>{\"title\": \"Safetensors support\", \"url\": \"https...</td>\n    </tr>\n    <tr>\n      <th>2</th>\n      <td>GitHub</td>\n      <td>Add support for safetensors</td>\n      <td>https://github.com/MinishLab/model2vec/pull/36</td>\n      <td>{\"title\": \"Add support for safetensors\", \"url\"...</td>\n    </tr>\n    <tr>\n      <th>3</th>\n      <td>GitHub</td>\n      <td>update readme - safetensors</td>\n      <td>https://github.com/facebookresearch/vfusion3d/...</td>\n      <td>{\"title\": \"update readme - safetensors\", \"url\"...</td>\n    </tr>\n    <tr>\n      <th>4</th>\n      <td>GitHub</td>\n      <td>Clarify \"Load Model\" SafeTensors documentation</td>\n      <td>https://github.com/chaiNNer-org/chaiNNer/pull/...</td>\n      <td>{\"title\": \"Clarify \\\"Load Model\\\" SafeTensors ...</td>\n    </tr>\n    <tr>\n      <th>...</th>\n      <td>...</td>\n      <td>...</td>\n      <td>...</td>\n      <td>...</td>\n    </tr>\n    <tr>\n      <th>4169</th>\n      <td>GitHub</td>\n      <td>Added flip function (to a tensor up to 5D alon...</td>\n      <td>https://github.com/torch/image/pull/60</td>\n      <td>{\"title\": \"Added flip function (to a tensor up...</td>\n    </tr>\n    <tr>\n      <th>4170</th>\n      <td>GitHub</td>\n      <td>Add torch.view and torch.viewAs</td>\n      <td>https://github.com/torch/torch7/pull/50</td>\n      <td>{\"title\": \"Add torch.view and torch.viewAs\", \"...</td>\n    </tr>\n    <tr>\n      <th>4171</th>\n      <td>GitHub</td>\n      <td>Stash computed form on tensor for re-assembly</td>\n      <td>https://github.com/firedrakeproject/firedrake/...</td>\n      <td>{\"title\": \"Stash computed form on tensor for r...</td>\n    </tr>\n    <tr>\n      <th>4172</th>\n      <td>GitHub</td>\n      <td>Clover QPX</td>\n      <td>https://github.com/etmc/tmLQCD/pull/228</td>\n      <td>{\"title\": \"Clover QPX\", \"url\": \"https://github...</td>\n    </tr>\n    <tr>\n      <th>4173</th>\n      <td>GitHub</td>\n      <td>WIP: refactor basic.py, extract sorting functi...</td>\n      <td>https://github.com/Theano/Theano/pull/615</td>\n      <td>{\"title\": \"WIP: refactor basic.py, extract sor...</td>\n    </tr>\n  </tbody>\n</table>\n<p>4174 rows × 4 columns</p>\n</div>"
     },
     "execution_count": 5,
     "metadata": {},
     "output_type": "execute_result"
    }
   ],
   "source": [
    "import sqlite3\n",
    "from sklearn.feature_extraction.text import TfidfVectorizer\n",
    "from sklearn.metrics.pairwise import cosine_similarity\n",
    "import pandas as pd\n",
    "\n",
    "import pandas as pd\n",
    "df_github = pd.read_csv('../../data/GH_data_safetensor.csv')\n",
    "df_so = pd.read_csv('../../data/SO_data_safetensor.csv')\n",
    "df_github.head()\n",
    "df = df_github\n"
   ]
  },
  {
   "cell_type": "code",
   "outputs": [
    {
     "name": "stdout",
     "output_type": "stream",
     "text": [
      "(4174, 5)\n"
     ]
    },
    {
     "data": {
      "text/plain": "      source                                              title  \\\n1245  GitHub                                 Safe serialization   \n2287  GitHub  [`core` / `Quantization`] Fix for 8bit seriali...   \n2163  GitHub               Fix CPU offload + disk offload tests   \n1488  GitHub   Add --safe-serialization/--no-safe-serialization   \n3210  GitHub            Add serialization method to TensorShare   \n\n                                                    url  \\\n1245  https://github.com/huggingface/optimum-quanto/...   \n2287  https://github.com/huggingface/transformers/pu...   \n2163  https://github.com/huggingface/transformers/pu...   \n1488      https://github.com/arcee-ai/mergekit/pull/103   \n3210     https://github.com/chainyo/tensorshare/pull/15   \n\n                                           json content  \\\n1245  {\"title\": \"Safe serialization\", \"url\": \"https:...   \n2287  {\"title\": \"[`core` / `Quantization`] Fix for 8...   \n2163  {\"title\": \"Fix CPU offload + disk offload test...   \n1488  {\"title\": \"Add --safe-serialization/--no-safe-...   \n3210  {\"title\": \"Add serialization method to TensorS...   \n\n                                          combined_text  cosine_similarity  \n1245  {\"title\": \"Safe serialization\", \"url\": \"https:...           0.552801  \n2287  {\"title\": \"[`core` / `Quantization`] Fix for 8...           0.363702  \n2163  {\"title\": \"Fix CPU offload + disk offload test...           0.304729  \n1488  {\"title\": \"Add --safe-serialization/--no-safe-...           0.299877  \n3210  {\"title\": \"Add serialization method to TensorS...           0.290425  ",
      "text/html": "<div>\n<style scoped>\n    .dataframe tbody tr th:only-of-type {\n        vertical-align: middle;\n    }\n\n    .dataframe tbody tr th {\n        vertical-align: top;\n    }\n\n    .dataframe thead th {\n        text-align: right;\n    }\n</style>\n<table border=\"1\" class=\"dataframe\">\n  <thead>\n    <tr style=\"text-align: right;\">\n      <th></th>\n      <th>source</th>\n      <th>title</th>\n      <th>url</th>\n      <th>json content</th>\n      <th>combined_text</th>\n      <th>cosine_similarity</th>\n    </tr>\n  </thead>\n  <tbody>\n    <tr>\n      <th>1245</th>\n      <td>GitHub</td>\n      <td>Safe serialization</td>\n      <td>https://github.com/huggingface/optimum-quanto/...</td>\n      <td>{\"title\": \"Safe serialization\", \"url\": \"https:...</td>\n      <td>{\"title\": \"Safe serialization\", \"url\": \"https:...</td>\n      <td>0.552801</td>\n    </tr>\n    <tr>\n      <th>2287</th>\n      <td>GitHub</td>\n      <td>[`core` / `Quantization`] Fix for 8bit seriali...</td>\n      <td>https://github.com/huggingface/transformers/pu...</td>\n      <td>{\"title\": \"[`core` / `Quantization`] Fix for 8...</td>\n      <td>{\"title\": \"[`core` / `Quantization`] Fix for 8...</td>\n      <td>0.363702</td>\n    </tr>\n    <tr>\n      <th>2163</th>\n      <td>GitHub</td>\n      <td>Fix CPU offload + disk offload tests</td>\n      <td>https://github.com/huggingface/transformers/pu...</td>\n      <td>{\"title\": \"Fix CPU offload + disk offload test...</td>\n      <td>{\"title\": \"Fix CPU offload + disk offload test...</td>\n      <td>0.304729</td>\n    </tr>\n    <tr>\n      <th>1488</th>\n      <td>GitHub</td>\n      <td>Add --safe-serialization/--no-safe-serialization</td>\n      <td>https://github.com/arcee-ai/mergekit/pull/103</td>\n      <td>{\"title\": \"Add --safe-serialization/--no-safe-...</td>\n      <td>{\"title\": \"Add --safe-serialization/--no-safe-...</td>\n      <td>0.299877</td>\n    </tr>\n    <tr>\n      <th>3210</th>\n      <td>GitHub</td>\n      <td>Add serialization method to TensorShare</td>\n      <td>https://github.com/chainyo/tensorshare/pull/15</td>\n      <td>{\"title\": \"Add serialization method to TensorS...</td>\n      <td>{\"title\": \"Add serialization method to TensorS...</td>\n      <td>0.290425</td>\n    </tr>\n  </tbody>\n</table>\n</div>"
     },
     "execution_count": 9,
     "metadata": {},
     "output_type": "execute_result"
    }
   ],
   "source": [
    "\n",
    "\n",
    "print(df.shape)\n",
    "\n",
    "# Combine relevant text columns for vectorization\n",
    "df['combined_text'] = df[['json content']].fillna('').apply(lambda row: ' '.join(row.values.astype(str)), axis=1)\n",
    "\n",
    "# Define query related to model serialization formats\n",
    "query = \"model serialization safetensors\"\n",
    "\n",
    "# Vectorize the text data\n",
    "vectorizer = TfidfVectorizer(stop_words='english')\n",
    "tfidf_matrix = vectorizer.fit_transform(df['combined_text'])\n",
    "query_vec = vectorizer.transform([query])\n",
    "\n",
    "# Calculate cosine similarity between the query and all documents\n",
    "cosine_similarities = cosine_similarity(query_vec, tfidf_matrix).flatten()\n",
    "\n",
    "# Get top N relevant papers\n",
    "N = 500\n",
    "top_n_indices = cosine_similarities.argsort()[-N:][::-1]\n",
    "relevant_papers = df.iloc[top_n_indices]\n",
    "\n",
    "# get least relevant papers\n",
    "least_n_indices = cosine_similarities.argsort()[:100]\n",
    "least_relevant_papers = df.iloc[least_n_indices]\n",
    "# exclude papers with terms like \"call for papers\" or \"conference\"\n",
    "# least_relevant_papers = least_relevant_papers[~least_relevant_papers['combined_text'].str.contains('teach|student|educat|pedagog|classroom|course|CS1', case=False)]\n",
    "\n",
    "\n",
    "least_relevant_papers\n",
    "relevant_papers\n",
    "cosine_similarities\n",
    "\n",
    "\n",
    "# sort by cosine similarity (descending)\n",
    "df['cosine_similarity'] = cosine_similarities\n",
    "df = df.sort_values(by='cosine_similarity', ascending=False)\n",
    "df.head()"
   ],
   "metadata": {
    "collapsed": true,
    "ExecuteTime": {
     "end_time": "2024-10-27T19:08:31.579189Z",
     "start_time": "2024-10-27T19:08:28.639659Z"
    }
   },
   "id": "initial_id",
   "execution_count": 9
  }
 ],
 "metadata": {
  "kernelspec": {
   "display_name": "Python 3",
   "language": "python",
   "name": "python3"
  },
  "language_info": {
   "codemirror_mode": {
    "name": "ipython",
    "version": 2
   },
   "file_extension": ".py",
   "mimetype": "text/x-python",
   "name": "python",
   "nbconvert_exporter": "python",
   "pygments_lexer": "ipython2",
   "version": "2.7.6"
  }
 },
 "nbformat": 4,
 "nbformat_minor": 5
}
