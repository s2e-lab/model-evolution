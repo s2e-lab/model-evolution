{
 "cells": [
  {
   "cell_type": "markdown",
   "source": [],
   "metadata": {
    "collapsed": false
   },
   "id": "646a9817a24d92fe"
  },
  {
   "cell_type": "markdown",
   "source": [
    "# Using cosine similarity to find relevant pull requests and posts"
   ],
   "metadata": {
    "collapsed": false
   },
   "id": "100aec5887172641"
  },
  {
   "cell_type": "markdown",
   "source": [
    "## Function to compute cosine similarity"
   ],
   "metadata": {
    "collapsed": false
   },
   "id": "7d514adb9003b6f"
  },
  {
   "cell_type": "code",
   "execution_count": 21,
   "outputs": [],
   "source": [
    "import pandas as pd\n",
    "from sklearn.feature_extraction.text import TfidfVectorizer\n",
    "from sklearn.metrics.pairwise import cosine_similarity\n",
    "\n",
    "def compute_similarity(query:str, df: pd.DataFrame, text_column:str):\n",
    "    \"\"\"\n",
    "    Compute cosine similarity between a query and a dataframe of text data\n",
    "    \"\"\"\n",
    "    # Combine relevant text columns for vectorization\n",
    "    df['combined_text'] = df[[text_column]].fillna('').apply(lambda row: ' '.join(row.values.astype(str)), axis=1)\n",
    "\n",
    "    # Vectorize the text data\n",
    "    vectorizer = TfidfVectorizer(stop_words='english')\n",
    "    tfidf_matrix = vectorizer.fit_transform(df['combined_text'])\n",
    "    query_vec = vectorizer.transform([query])\n",
    "\n",
    "    # Calculate cosine similarity between the query and all documents\n",
    "    return cosine_similarity(query_vec, tfidf_matrix).flatten()"
   ],
   "metadata": {
    "collapsed": false,
    "ExecuteTime": {
     "end_time": "2024-10-27T19:40:08.663717Z",
     "start_time": "2024-10-27T19:40:08.643719Z"
    }
   },
   "id": "6939b228013f9024"
  },
  {
   "cell_type": "markdown",
   "source": [
    "## Load data"
   ],
   "metadata": {
    "collapsed": false
   },
   "id": "100dfa73bb06b395"
  },
  {
   "cell_type": "code",
   "execution_count": 25,
   "id": "a0a55fca303dba2",
   "metadata": {
    "collapsed": false,
    "ExecuteTime": {
     "end_time": "2024-10-27T19:40:48.072894200Z",
     "start_time": "2024-10-27T19:40:44.148322300Z"
    }
   },
   "outputs": [],
   "source": [
    "df_github = pd.read_csv('../../data/GH_data_safetensor.csv')\n",
    "df_so = pd.read_csv('../../data/SO_data_safetensor.csv')\n",
    "\n",
    "query = \"model serialization safetensors\"\n",
    "cosine_similarities = compute_similarity(query, df_github, 'json content')\n",
    "df_github['cosine_similarity'] = cosine_similarities\n"
   ]
  },
  {
   "cell_type": "code",
   "execution_count": 26,
   "outputs": [],
   "source": [
    "\n",
    "# sort by cosine similarity (descending)\n",
    "df_github = df_github.sort_values(by='cosine_similarity', ascending=False)\n",
    "# keep only the headers source, and json_content \n",
    "df_github = df_github[['source', 'json content']]\n",
    "# rename json content to content\n",
    "df_github = df_github.rename(columns={'json content': 'content'})\n",
    "\n",
    "df_github.to_csv('../../data/GH_data_safetensor_similarity.csv', index=False)"
   ],
   "metadata": {
    "collapsed": false,
    "ExecuteTime": {
     "end_time": "2024-10-27T19:42:05.756729Z",
     "start_time": "2024-10-27T19:42:04.739901200Z"
    }
   },
   "id": "initial_id"
  }
 ],
 "metadata": {
  "kernelspec": {
   "display_name": "Python 3",
   "language": "python",
   "name": "python3"
  },
  "language_info": {
   "codemirror_mode": {
    "name": "ipython",
    "version": 2
   },
   "file_extension": ".py",
   "mimetype": "text/x-python",
   "name": "python",
   "nbconvert_exporter": "python",
   "pygments_lexer": "ipython2",
   "version": "2.7.6"
  }
 },
 "nbformat": 4,
 "nbformat_minor": 5
}
