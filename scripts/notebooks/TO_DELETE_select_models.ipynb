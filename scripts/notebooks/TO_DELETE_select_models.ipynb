{
 "cells": [
  {
   "cell_type": "markdown",
   "source": [
    "# Selecting model repositories to include on our study"
   ],
   "metadata": {
    "collapsed": false
   },
   "id": "be90284bf5bc1ccd"
  },
  {
   "cell_type": "markdown",
   "source": [
    "1. Load the data\n",
    "2. Filter the data\n",
    "3. Save the data"
   ],
   "metadata": {
    "collapsed": false
   },
   "id": "161f7975f60363e4"
  },
  {
   "cell_type": "markdown",
   "source": [
    "## 1 - Load the repositories' metadata"
   ],
   "metadata": {
    "collapsed": false
   },
   "id": "63a27689ab475d7f"
  },
  {
   "cell_type": "code",
   "outputs": [
    {
     "name": "stdout",
     "output_type": "stream",
     "text": [
      "Archive:  ../../data/huggingface_sort_by_createdAt_top996939.json.zip\r\n",
      "  inflating: ../../data/huggingface_sort_by_createdAt_top996939.json  \r\n"
     ]
    },
    {
     "data": {
      "text/plain": "Timestamp('2022-03-02 23:29:04+0000', tz='UTC')"
     },
     "execution_count": 1,
     "metadata": {},
     "output_type": "execute_result"
    }
   ],
   "source": [
    "import pandas as pd\n",
    "\n",
    "# uncompress zip file\n",
    "!unzip ../../data/huggingface_sort_by_createdAt_top996939.json.zip -d ../../data/\n",
    "# load the data\n",
    "input_file = \"../../data/huggingface_sort_by_createdAt_top996939.json\"\n",
    "df = pd.read_json(input_file)\n",
    "# delete the unzipped file\n",
    "!rm ../../data/huggingface_sort_by_createdAt_top996939.json\n",
    "df[\"created_at\"].min()"
   ],
   "metadata": {
    "collapsed": false,
    "ExecuteTime": {
     "end_time": "2024-11-10T09:33:10.684366Z",
     "start_time": "2024-11-10T09:31:56.453461Z"
    }
   },
   "id": "91d359644d0ee6db",
   "execution_count": 1
  },
  {
   "cell_type": "code",
   "outputs": [
    {
     "data": {
      "text/plain": "Timestamp('2022-03-02 23:29:04+0000', tz='UTC')"
     },
     "execution_count": 2,
     "metadata": {},
     "output_type": "execute_result"
    }
   ],
   "source": [
    "# HF API has a unique situation: \n",
    "# It's important to note that there is a unique value, 2022-03-02T23:29:04.000Z assigned to all repositories that were created before we began storing creation dates.\n",
    "df[\"created_at\"].min()"
   ],
   "metadata": {
    "collapsed": false,
    "ExecuteTime": {
     "end_time": "2024-11-10T09:33:53.593983Z",
     "start_time": "2024-11-10T09:33:53.587755Z"
    }
   },
   "id": "93f8d82ff69a1e5f",
   "execution_count": 2
  },
  {
   "cell_type": "markdown",
   "source": [
    "## 2 - Filter the repositories based on the following criteria\n",
    "- models created before September 2022; AND\n",
    "- models last modified in 2024; AND\n",
    "- models with at least one model file."
   ],
   "metadata": {
    "collapsed": false
   },
   "id": "e9a970d614f0a8ae"
  },
  {
   "cell_type": "markdown",
   "source": [],
   "metadata": {
    "collapsed": false
   },
   "id": "bbdf3cbe08311122"
  },
  {
   "cell_type": "code",
   "outputs": [
    {
     "data": {
      "text/plain": "                                                     id          author  \\\n1                  dogssss/Qwen-Qwen1.5-0.5B-1727306842         dogssss   \n3                SALUTEASD/Qwen-Qwen1.5-1.8B-1727306835       SALUTEASD   \n4             jerseyjerry/google-gemma-2b-it-1727306802     jerseyjerry   \n6                                  janetsnakehole/samus  janetsnakehole   \n17                 dogssss/Qwen-Qwen1.5-1.8B-1727306569         dogssss   \n...                                                 ...             ...   \n894573                      microsoft/git-large-textvqa       microsoft   \n894584                     microsoft/git-base-msrvtt-qa       microsoft   \n894612                                  nairaxo/bantulm         nairaxo   \n894738  stjiris/bert-large-portuguese-cased-legal-tsdae         stjiris   \n894777                                  egyee/ppo-Huggy           egyee   \n\n                                             sha             last_modified  \\\n1       3e28ce8bbbad707344dbdd919fe18b73d3572e99 2024-09-25 23:27:26+00:00   \n3       7d829a8433154e6b0d7779dd7a114573dd1739e6 2024-09-25 23:27:21+00:00   \n4       f67eec5232be68230fa1782f05ba417f0e95c4bc 2024-09-25 23:26:53+00:00   \n6       3b7fb2394ac0a5f07429d883adecc7a78c4a6955 2024-09-25 23:26:54+00:00   \n17      ce5f346b3a324fe3781dacc17ad479235b4536e4 2024-09-25 23:22:54+00:00   \n...                                          ...                       ...   \n894573  416f91974ee1fb3e797144c9fc93787740787161 2024-04-09 07:18:18+00:00   \n894584  63507860e967eb797703eb473d51166db176c63d 2024-04-04 07:37:26+00:00   \n894612  b0bfaa418237a00a6ad5783f21aeed752e3f751d 2024-09-13 07:44:53+00:00   \n894738  53b369fea6028508626ec2e1e88a24d15d713453 2024-04-17 08:59:42+00:00   \n894777  bd00a0e311bcb1e0ef88942b216539b9a0bc3f45 2024-01-16 21:22:35+00:00   \n\n                      created_at  private  gated  disabled  downloads  likes  \\\n1      2024-09-25 23:27:23+00:00    False  False       NaN          0      0   \n3      2024-09-25 23:27:15+00:00    False  False       NaN          0      0   \n4      2024-09-25 23:26:42+00:00    False  False       NaN          0      0   \n6      2024-09-25 23:26:17+00:00    False  False       NaN          0      0   \n17     2024-09-25 23:22:50+00:00    False  False       NaN          0      0   \n...                          ...      ...    ...       ...        ...    ...   \n894573 2023-01-02 11:18:10+00:00    False  False       NaN         78      4   \n894584 2023-01-02 10:55:17+00:00    False  False       NaN        102      1   \n894612 2023-01-02 09:16:17+00:00    False  False       NaN         38      0   \n894738 2023-01-01 20:16:22+00:00    False  False       NaN         15      2   \n894777 2023-01-01 17:35:22+00:00    False  False       NaN          3      0   \n\n        ... transformers_info  \\\n1       ...               NaN   \n3       ...               NaN   \n4       ...               NaN   \n6       ...               NaN   \n17      ...               NaN   \n...     ...               ...   \n894573  ...               NaN   \n894584  ...               NaN   \n894612  ...               NaN   \n894738  ...               NaN   \n894777  ...               NaN   \n\n                                                 siblings spaces  safetensors  \\\n1       [{'rfilename': '.gitattributes', 'size': None,...    NaN          NaN   \n3       [{'rfilename': '.gitattributes', 'size': None,...    NaN          NaN   \n4       [{'rfilename': '.gitattributes', 'size': None,...    NaN          NaN   \n6       [{'rfilename': '.gitattributes', 'size': None,...    NaN          NaN   \n17      [{'rfilename': '.gitattributes', 'size': None,...    NaN          NaN   \n...                                                   ...    ...          ...   \n894573  [{'rfilename': '.gitattributes', 'size': None,...    NaN          NaN   \n894584  [{'rfilename': '.gitattributes', 'size': None,...    NaN          NaN   \n894612  [{'rfilename': '.gitattributes', 'size': None,...    NaN          NaN   \n894738  [{'rfilename': '.gitattributes', 'size': None,...    NaN          NaN   \n894777  [{'rfilename': '.gitattributes', 'size': None,...    NaN          NaN   \n\n                     lastModified  cardData  transformersInfo  \\\n1       2024-09-25 23:27:26+00:00       NaN               NaN   \n3       2024-09-25 23:27:21+00:00       NaN               NaN   \n4       2024-09-25 23:26:53+00:00       NaN               NaN   \n6       2024-09-25 23:26:54+00:00       NaN               NaN   \n17      2024-09-25 23:22:54+00:00       NaN               NaN   \n...                           ...       ...               ...   \n894573  2024-04-09 07:18:18+00:00       NaN               NaN   \n894584  2024-04-04 07:37:26+00:00       NaN               NaN   \n894612  2024-09-13 07:44:53+00:00       NaN               NaN   \n894738  2024-04-17 08:59:42+00:00       NaN               NaN   \n894777  2024-01-16 21:22:35+00:00       NaN               NaN   \n\n                             _id                            inference  \\\n1       66f49c5bc0dddfd36c29e4d1                pipeline-not-detected   \n3       66f49c53d79aed46c0fcd04c                pipeline-not-detected   \n4       66f49c328908ed9cc978aea9                pipeline-not-detected   \n6       66f49c19d8487f70b018186c                 library-not-detected   \n17      66f49b4ac10c79a643356d1f                pipeline-not-detected   \n...                          ...                                  ...   \n894573  63b2bd72d6c6529ede73eed4                     explicit-opt-out   \n894584  63b2b8150dddc8f717efa0d4                     explicit-opt-out   \n894612  63b2a0e10dddc8f717ee822c                   not-popular-enough   \n894738  63b1ea16000cd823284050e8  pipeline-library-pair-not-supported   \n894777  63b1c45a1bc4bb9da219948c  pipeline-library-pair-not-supported   \n\n                                                modelId  \n1                  dogssss/Qwen-Qwen1.5-0.5B-1727306842  \n3                SALUTEASD/Qwen-Qwen1.5-1.8B-1727306835  \n4             jerseyjerry/google-gemma-2b-it-1727306802  \n6                                  janetsnakehole/samus  \n17                 dogssss/Qwen-Qwen1.5-1.8B-1727306569  \n...                                                 ...  \n894573                      microsoft/git-large-textvqa  \n894584                     microsoft/git-base-msrvtt-qa  \n894612                                  nairaxo/bantulm  \n894738  stjiris/bert-large-portuguese-cased-legal-tsdae  \n894777                                  egyee/ppo-Huggy  \n\n[424506 rows x 28 columns]",
      "text/html": "<div>\n<style scoped>\n    .dataframe tbody tr th:only-of-type {\n        vertical-align: middle;\n    }\n\n    .dataframe tbody tr th {\n        vertical-align: top;\n    }\n\n    .dataframe thead th {\n        text-align: right;\n    }\n</style>\n<table border=\"1\" class=\"dataframe\">\n  <thead>\n    <tr style=\"text-align: right;\">\n      <th></th>\n      <th>id</th>\n      <th>author</th>\n      <th>sha</th>\n      <th>last_modified</th>\n      <th>created_at</th>\n      <th>private</th>\n      <th>gated</th>\n      <th>disabled</th>\n      <th>downloads</th>\n      <th>likes</th>\n      <th>...</th>\n      <th>transformers_info</th>\n      <th>siblings</th>\n      <th>spaces</th>\n      <th>safetensors</th>\n      <th>lastModified</th>\n      <th>cardData</th>\n      <th>transformersInfo</th>\n      <th>_id</th>\n      <th>inference</th>\n      <th>modelId</th>\n    </tr>\n  </thead>\n  <tbody>\n    <tr>\n      <th>1</th>\n      <td>dogssss/Qwen-Qwen1.5-0.5B-1727306842</td>\n      <td>dogssss</td>\n      <td>3e28ce8bbbad707344dbdd919fe18b73d3572e99</td>\n      <td>2024-09-25 23:27:26+00:00</td>\n      <td>2024-09-25 23:27:23+00:00</td>\n      <td>False</td>\n      <td>False</td>\n      <td>NaN</td>\n      <td>0</td>\n      <td>0</td>\n      <td>...</td>\n      <td>NaN</td>\n      <td>[{'rfilename': '.gitattributes', 'size': None,...</td>\n      <td>NaN</td>\n      <td>NaN</td>\n      <td>2024-09-25 23:27:26+00:00</td>\n      <td>NaN</td>\n      <td>NaN</td>\n      <td>66f49c5bc0dddfd36c29e4d1</td>\n      <td>pipeline-not-detected</td>\n      <td>dogssss/Qwen-Qwen1.5-0.5B-1727306842</td>\n    </tr>\n    <tr>\n      <th>3</th>\n      <td>SALUTEASD/Qwen-Qwen1.5-1.8B-1727306835</td>\n      <td>SALUTEASD</td>\n      <td>7d829a8433154e6b0d7779dd7a114573dd1739e6</td>\n      <td>2024-09-25 23:27:21+00:00</td>\n      <td>2024-09-25 23:27:15+00:00</td>\n      <td>False</td>\n      <td>False</td>\n      <td>NaN</td>\n      <td>0</td>\n      <td>0</td>\n      <td>...</td>\n      <td>NaN</td>\n      <td>[{'rfilename': '.gitattributes', 'size': None,...</td>\n      <td>NaN</td>\n      <td>NaN</td>\n      <td>2024-09-25 23:27:21+00:00</td>\n      <td>NaN</td>\n      <td>NaN</td>\n      <td>66f49c53d79aed46c0fcd04c</td>\n      <td>pipeline-not-detected</td>\n      <td>SALUTEASD/Qwen-Qwen1.5-1.8B-1727306835</td>\n    </tr>\n    <tr>\n      <th>4</th>\n      <td>jerseyjerry/google-gemma-2b-it-1727306802</td>\n      <td>jerseyjerry</td>\n      <td>f67eec5232be68230fa1782f05ba417f0e95c4bc</td>\n      <td>2024-09-25 23:26:53+00:00</td>\n      <td>2024-09-25 23:26:42+00:00</td>\n      <td>False</td>\n      <td>False</td>\n      <td>NaN</td>\n      <td>0</td>\n      <td>0</td>\n      <td>...</td>\n      <td>NaN</td>\n      <td>[{'rfilename': '.gitattributes', 'size': None,...</td>\n      <td>NaN</td>\n      <td>NaN</td>\n      <td>2024-09-25 23:26:53+00:00</td>\n      <td>NaN</td>\n      <td>NaN</td>\n      <td>66f49c328908ed9cc978aea9</td>\n      <td>pipeline-not-detected</td>\n      <td>jerseyjerry/google-gemma-2b-it-1727306802</td>\n    </tr>\n    <tr>\n      <th>6</th>\n      <td>janetsnakehole/samus</td>\n      <td>janetsnakehole</td>\n      <td>3b7fb2394ac0a5f07429d883adecc7a78c4a6955</td>\n      <td>2024-09-25 23:26:54+00:00</td>\n      <td>2024-09-25 23:26:17+00:00</td>\n      <td>False</td>\n      <td>False</td>\n      <td>NaN</td>\n      <td>0</td>\n      <td>0</td>\n      <td>...</td>\n      <td>NaN</td>\n      <td>[{'rfilename': '.gitattributes', 'size': None,...</td>\n      <td>NaN</td>\n      <td>NaN</td>\n      <td>2024-09-25 23:26:54+00:00</td>\n      <td>NaN</td>\n      <td>NaN</td>\n      <td>66f49c19d8487f70b018186c</td>\n      <td>library-not-detected</td>\n      <td>janetsnakehole/samus</td>\n    </tr>\n    <tr>\n      <th>17</th>\n      <td>dogssss/Qwen-Qwen1.5-1.8B-1727306569</td>\n      <td>dogssss</td>\n      <td>ce5f346b3a324fe3781dacc17ad479235b4536e4</td>\n      <td>2024-09-25 23:22:54+00:00</td>\n      <td>2024-09-25 23:22:50+00:00</td>\n      <td>False</td>\n      <td>False</td>\n      <td>NaN</td>\n      <td>0</td>\n      <td>0</td>\n      <td>...</td>\n      <td>NaN</td>\n      <td>[{'rfilename': '.gitattributes', 'size': None,...</td>\n      <td>NaN</td>\n      <td>NaN</td>\n      <td>2024-09-25 23:22:54+00:00</td>\n      <td>NaN</td>\n      <td>NaN</td>\n      <td>66f49b4ac10c79a643356d1f</td>\n      <td>pipeline-not-detected</td>\n      <td>dogssss/Qwen-Qwen1.5-1.8B-1727306569</td>\n    </tr>\n    <tr>\n      <th>...</th>\n      <td>...</td>\n      <td>...</td>\n      <td>...</td>\n      <td>...</td>\n      <td>...</td>\n      <td>...</td>\n      <td>...</td>\n      <td>...</td>\n      <td>...</td>\n      <td>...</td>\n      <td>...</td>\n      <td>...</td>\n      <td>...</td>\n      <td>...</td>\n      <td>...</td>\n      <td>...</td>\n      <td>...</td>\n      <td>...</td>\n      <td>...</td>\n      <td>...</td>\n      <td>...</td>\n    </tr>\n    <tr>\n      <th>894573</th>\n      <td>microsoft/git-large-textvqa</td>\n      <td>microsoft</td>\n      <td>416f91974ee1fb3e797144c9fc93787740787161</td>\n      <td>2024-04-09 07:18:18+00:00</td>\n      <td>2023-01-02 11:18:10+00:00</td>\n      <td>False</td>\n      <td>False</td>\n      <td>NaN</td>\n      <td>78</td>\n      <td>4</td>\n      <td>...</td>\n      <td>NaN</td>\n      <td>[{'rfilename': '.gitattributes', 'size': None,...</td>\n      <td>NaN</td>\n      <td>NaN</td>\n      <td>2024-04-09 07:18:18+00:00</td>\n      <td>NaN</td>\n      <td>NaN</td>\n      <td>63b2bd72d6c6529ede73eed4</td>\n      <td>explicit-opt-out</td>\n      <td>microsoft/git-large-textvqa</td>\n    </tr>\n    <tr>\n      <th>894584</th>\n      <td>microsoft/git-base-msrvtt-qa</td>\n      <td>microsoft</td>\n      <td>63507860e967eb797703eb473d51166db176c63d</td>\n      <td>2024-04-04 07:37:26+00:00</td>\n      <td>2023-01-02 10:55:17+00:00</td>\n      <td>False</td>\n      <td>False</td>\n      <td>NaN</td>\n      <td>102</td>\n      <td>1</td>\n      <td>...</td>\n      <td>NaN</td>\n      <td>[{'rfilename': '.gitattributes', 'size': None,...</td>\n      <td>NaN</td>\n      <td>NaN</td>\n      <td>2024-04-04 07:37:26+00:00</td>\n      <td>NaN</td>\n      <td>NaN</td>\n      <td>63b2b8150dddc8f717efa0d4</td>\n      <td>explicit-opt-out</td>\n      <td>microsoft/git-base-msrvtt-qa</td>\n    </tr>\n    <tr>\n      <th>894612</th>\n      <td>nairaxo/bantulm</td>\n      <td>nairaxo</td>\n      <td>b0bfaa418237a00a6ad5783f21aeed752e3f751d</td>\n      <td>2024-09-13 07:44:53+00:00</td>\n      <td>2023-01-02 09:16:17+00:00</td>\n      <td>False</td>\n      <td>False</td>\n      <td>NaN</td>\n      <td>38</td>\n      <td>0</td>\n      <td>...</td>\n      <td>NaN</td>\n      <td>[{'rfilename': '.gitattributes', 'size': None,...</td>\n      <td>NaN</td>\n      <td>NaN</td>\n      <td>2024-09-13 07:44:53+00:00</td>\n      <td>NaN</td>\n      <td>NaN</td>\n      <td>63b2a0e10dddc8f717ee822c</td>\n      <td>not-popular-enough</td>\n      <td>nairaxo/bantulm</td>\n    </tr>\n    <tr>\n      <th>894738</th>\n      <td>stjiris/bert-large-portuguese-cased-legal-tsdae</td>\n      <td>stjiris</td>\n      <td>53b369fea6028508626ec2e1e88a24d15d713453</td>\n      <td>2024-04-17 08:59:42+00:00</td>\n      <td>2023-01-01 20:16:22+00:00</td>\n      <td>False</td>\n      <td>False</td>\n      <td>NaN</td>\n      <td>15</td>\n      <td>2</td>\n      <td>...</td>\n      <td>NaN</td>\n      <td>[{'rfilename': '.gitattributes', 'size': None,...</td>\n      <td>NaN</td>\n      <td>NaN</td>\n      <td>2024-04-17 08:59:42+00:00</td>\n      <td>NaN</td>\n      <td>NaN</td>\n      <td>63b1ea16000cd823284050e8</td>\n      <td>pipeline-library-pair-not-supported</td>\n      <td>stjiris/bert-large-portuguese-cased-legal-tsdae</td>\n    </tr>\n    <tr>\n      <th>894777</th>\n      <td>egyee/ppo-Huggy</td>\n      <td>egyee</td>\n      <td>bd00a0e311bcb1e0ef88942b216539b9a0bc3f45</td>\n      <td>2024-01-16 21:22:35+00:00</td>\n      <td>2023-01-01 17:35:22+00:00</td>\n      <td>False</td>\n      <td>False</td>\n      <td>NaN</td>\n      <td>3</td>\n      <td>0</td>\n      <td>...</td>\n      <td>NaN</td>\n      <td>[{'rfilename': '.gitattributes', 'size': None,...</td>\n      <td>NaN</td>\n      <td>NaN</td>\n      <td>2024-01-16 21:22:35+00:00</td>\n      <td>NaN</td>\n      <td>NaN</td>\n      <td>63b1c45a1bc4bb9da219948c</td>\n      <td>pipeline-library-pair-not-supported</td>\n      <td>egyee/ppo-Huggy</td>\n    </tr>\n  </tbody>\n</table>\n<p>424506 rows × 28 columns</p>\n</div>"
     },
     "execution_count": 3,
     "metadata": {},
     "output_type": "execute_result"
    }
   ],
   "source": [
    "from analyticaml import MODEL_FILE_EXTENSIONS\n",
    "\n",
    "df['last_modified'] = pd.to_datetime(df['last_modified'], utc=True)\n",
    "df['created_at'] = pd.to_datetime(df['created_at'], utc=True)\n",
    "\n",
    "\n",
    "# find models created_at before Sep-2022 and last_modified in 2024\n",
    "# df_filtered = df[(df[\"created_at\"].dt.year == 2022) & (df[\"created_at\"].dt.month < 9) & (df[\"last_modified\"].dt.year == 2024)]\n",
    "# df_filtered = df_filtered[(df_filtered[\"created_at\"].dt.year <= 2022)]\n",
    "df_filtered = df[(df[\"last_modified\"].dt.year == 2024) & (df[\"created_at\"].dt.year > 2022)]\n",
    "df[\"gated\"] = df[\"gated\"].astype(bool)\n",
    "# filter repositories not gated\n",
    "df_filtered = df_filtered[df_filtered[\"gated\"] == False]\n",
    "# find models with at least one model file (extension in MODEL_FILE_EXTENSIONS)\n",
    "df_filtered = df_filtered[\n",
    "    df_filtered[\"siblings\"].apply(lambda x: any([file[\"extension\"] in MODEL_FILE_EXTENSIONS for file in x]))]\n",
    "# \n",
    "df_filtered\n"
   ],
   "metadata": {
    "collapsed": false,
    "ExecuteTime": {
     "end_time": "2024-11-10T09:34:08.958890Z",
     "start_time": "2024-11-10T09:34:00.910920Z"
    }
   },
   "id": "2178ec04eaae589e",
   "execution_count": 3
  },
  {
   "cell_type": "code",
   "outputs": [],
   "source": [
    "# how many repositories with likes > 0?\n",
    "df_filtered[df_filtered[\"likes\"] > 0].shape[0]"
   ],
   "metadata": {
    "collapsed": false
   },
   "id": "ccbc22d430d1be21"
  },
  {
   "cell_type": "markdown",
   "source": [
    "## 3 - Save the data"
   ],
   "metadata": {
    "collapsed": false
   },
   "id": "e20772751eb3c1c8"
  },
  {
   "cell_type": "code",
   "outputs": [],
   "source": [
    "# ensure gated column is boolean to avoid runtime errors\n",
    "# df_filtered[\"gated\"] = df_filtered[\"gated\"].astype(bool)\n",
    "# df_filtered.to_json(input_file.replace(\".json\", \"_selected.json\"))\n"
   ],
   "metadata": {
    "collapsed": false
   },
   "id": "24e4326bd0f7f5c2",
   "execution_count": null
  }
 ],
 "metadata": {
  "kernelspec": {
   "display_name": "Python 3",
   "language": "python",
   "name": "python3"
  },
  "language_info": {
   "codemirror_mode": {
    "name": "ipython",
    "version": 2
   },
   "file_extension": ".py",
   "mimetype": "text/x-python",
   "name": "python",
   "nbconvert_exporter": "python",
   "pygments_lexer": "ipython2",
   "version": "2.7.6"
  }
 },
 "nbformat": 4,
 "nbformat_minor": 5
}
