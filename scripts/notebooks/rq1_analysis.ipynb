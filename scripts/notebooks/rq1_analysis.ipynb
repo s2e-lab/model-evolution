{
 "cells": [
  {
   "cell_type": "markdown",
   "source": [
    "## RQ1: When was safetensors beginning to be applied/used? \n",
    "    We know the date when safetensors was released, however we do not currently have an understanding of how fast safetensors was adopted as a serialization format for models. In this question, we aim to understand when people begun using safetensors in their repositories."
   ],
   "metadata": {
    "collapsed": false
   },
   "id": "5b25526e90d20f96"
  },
  {
   "cell_type": "markdown",
   "source": [
    "### Read the data first"
   ],
   "metadata": {
    "collapsed": false
   },
   "id": "7567b577ac0af080"
  },
  {
   "cell_type": "code",
   "execution_count": 58,
   "id": "initial_id",
   "metadata": {
    "collapsed": true,
    "ExecuteTime": {
     "end_time": "2024-10-26T00:16:07.173058Z",
     "start_time": "2024-10-26T00:15:46.401883Z"
    }
   },
   "outputs": [
    {
     "data": {
      "text/plain": "                   repo_url                               commit_hash  \\\n0     stanfordnlp/stanza-ja  982d65055e3f5cdaef4f8b0a188e2db9ae528888   \n1     stanfordnlp/stanza-ja  982d65055e3f5cdaef4f8b0a188e2db9ae528888   \n2     stanfordnlp/stanza-ja  982d65055e3f5cdaef4f8b0a188e2db9ae528888   \n3     stanfordnlp/stanza-ja  9fb4707cefdb1e19cd68c00539eb444320483a83   \n4     stanfordnlp/stanza-ja  83625a4bf73f4ba466e189669b96b973c5f021a3   \n...                     ...                                       ...   \n7542        deepparag/Aeona  8b7237d36a122823697c669251052a4c39b591c0   \n7543        deepparag/Aeona  33bd87ef27c71a2385547b0b2e2945eff9f40e92   \n7544        deepparag/Aeona  e593b84a2a396160164bcc3a05dbd85a662b6160   \n7545        deepparag/Aeona  234d7f06d418da8703ccb3561aea40d7ff160df9   \n7546        deepparag/Aeona  37940fe4e5048c944bc68f56605dcd893945ca3b   \n\n                                        model_file_path serialization_format  \\\n0     stanfordnlp/stanza-ja/models/backward_charlm/c...               pickle   \n1      stanfordnlp/stanza-ja/models/constituency/alt.pt               pickle   \n2     stanfordnlp/stanza-ja/models/forward_charlm/co...               pickle   \n3      stanfordnlp/stanza-ja/models/constituency/alt.pt               pickle   \n4      stanfordnlp/stanza-ja/models/constituency/alt.pt               pickle   \n...                                                 ...                  ...   \n7542                  deepparag/Aeona/pytorch_model.bin           torch.save   \n7543                  deepparag/Aeona/pytorch_model.bin           torch.save   \n7544                  deepparag/Aeona/pytorch_model.bin           torch.save   \n7545                  deepparag/Aeona/pytorch_model.bin           torch.save   \n7546                  deepparag/Aeona/pytorch_model.bin           torch.save   \n\n                    date          message  elapsed_days  \n0    2022-04-21 10:32:52  Add model 1.3.1          -155  \n1    2022-04-21 10:32:52  Add model 1.3.1          -155  \n2    2022-04-21 10:32:52  Add model 1.3.1          -155  \n3    2022-04-06 23:58:23  Add model 1.3.1          -170  \n4    2022-04-05 00:09:23  Add model 1.3.1          -171  \n...                  ...              ...           ...  \n7542 2022-04-08 07:56:56        add model          -168  \n7543 2022-04-08 06:13:00        add model          -168  \n7544 2022-04-08 03:53:51        add model          -168  \n7545 2022-04-08 02:09:35        add model          -168  \n7546 2022-04-08 00:27:35        add model          -168  \n\n[7547 rows x 7 columns]",
      "text/html": "<div>\n<style scoped>\n    .dataframe tbody tr th:only-of-type {\n        vertical-align: middle;\n    }\n\n    .dataframe tbody tr th {\n        vertical-align: top;\n    }\n\n    .dataframe thead th {\n        text-align: right;\n    }\n</style>\n<table border=\"1\" class=\"dataframe\">\n  <thead>\n    <tr style=\"text-align: right;\">\n      <th></th>\n      <th>repo_url</th>\n      <th>commit_hash</th>\n      <th>model_file_path</th>\n      <th>serialization_format</th>\n      <th>date</th>\n      <th>message</th>\n      <th>elapsed_days</th>\n    </tr>\n  </thead>\n  <tbody>\n    <tr>\n      <th>0</th>\n      <td>stanfordnlp/stanza-ja</td>\n      <td>982d65055e3f5cdaef4f8b0a188e2db9ae528888</td>\n      <td>stanfordnlp/stanza-ja/models/backward_charlm/c...</td>\n      <td>pickle</td>\n      <td>2022-04-21 10:32:52</td>\n      <td>Add model 1.3.1</td>\n      <td>-155</td>\n    </tr>\n    <tr>\n      <th>1</th>\n      <td>stanfordnlp/stanza-ja</td>\n      <td>982d65055e3f5cdaef4f8b0a188e2db9ae528888</td>\n      <td>stanfordnlp/stanza-ja/models/constituency/alt.pt</td>\n      <td>pickle</td>\n      <td>2022-04-21 10:32:52</td>\n      <td>Add model 1.3.1</td>\n      <td>-155</td>\n    </tr>\n    <tr>\n      <th>2</th>\n      <td>stanfordnlp/stanza-ja</td>\n      <td>982d65055e3f5cdaef4f8b0a188e2db9ae528888</td>\n      <td>stanfordnlp/stanza-ja/models/forward_charlm/co...</td>\n      <td>pickle</td>\n      <td>2022-04-21 10:32:52</td>\n      <td>Add model 1.3.1</td>\n      <td>-155</td>\n    </tr>\n    <tr>\n      <th>3</th>\n      <td>stanfordnlp/stanza-ja</td>\n      <td>9fb4707cefdb1e19cd68c00539eb444320483a83</td>\n      <td>stanfordnlp/stanza-ja/models/constituency/alt.pt</td>\n      <td>pickle</td>\n      <td>2022-04-06 23:58:23</td>\n      <td>Add model 1.3.1</td>\n      <td>-170</td>\n    </tr>\n    <tr>\n      <th>4</th>\n      <td>stanfordnlp/stanza-ja</td>\n      <td>83625a4bf73f4ba466e189669b96b973c5f021a3</td>\n      <td>stanfordnlp/stanza-ja/models/constituency/alt.pt</td>\n      <td>pickle</td>\n      <td>2022-04-05 00:09:23</td>\n      <td>Add model 1.3.1</td>\n      <td>-171</td>\n    </tr>\n    <tr>\n      <th>...</th>\n      <td>...</td>\n      <td>...</td>\n      <td>...</td>\n      <td>...</td>\n      <td>...</td>\n      <td>...</td>\n      <td>...</td>\n    </tr>\n    <tr>\n      <th>7542</th>\n      <td>deepparag/Aeona</td>\n      <td>8b7237d36a122823697c669251052a4c39b591c0</td>\n      <td>deepparag/Aeona/pytorch_model.bin</td>\n      <td>torch.save</td>\n      <td>2022-04-08 07:56:56</td>\n      <td>add model</td>\n      <td>-168</td>\n    </tr>\n    <tr>\n      <th>7543</th>\n      <td>deepparag/Aeona</td>\n      <td>33bd87ef27c71a2385547b0b2e2945eff9f40e92</td>\n      <td>deepparag/Aeona/pytorch_model.bin</td>\n      <td>torch.save</td>\n      <td>2022-04-08 06:13:00</td>\n      <td>add model</td>\n      <td>-168</td>\n    </tr>\n    <tr>\n      <th>7544</th>\n      <td>deepparag/Aeona</td>\n      <td>e593b84a2a396160164bcc3a05dbd85a662b6160</td>\n      <td>deepparag/Aeona/pytorch_model.bin</td>\n      <td>torch.save</td>\n      <td>2022-04-08 03:53:51</td>\n      <td>add model</td>\n      <td>-168</td>\n    </tr>\n    <tr>\n      <th>7545</th>\n      <td>deepparag/Aeona</td>\n      <td>234d7f06d418da8703ccb3561aea40d7ff160df9</td>\n      <td>deepparag/Aeona/pytorch_model.bin</td>\n      <td>torch.save</td>\n      <td>2022-04-08 02:09:35</td>\n      <td>add model</td>\n      <td>-168</td>\n    </tr>\n    <tr>\n      <th>7546</th>\n      <td>deepparag/Aeona</td>\n      <td>37940fe4e5048c944bc68f56605dcd893945ca3b</td>\n      <td>deepparag/Aeona/pytorch_model.bin</td>\n      <td>torch.save</td>\n      <td>2022-04-08 00:27:35</td>\n      <td>add model</td>\n      <td>-168</td>\n    </tr>\n  </tbody>\n</table>\n<p>7547 rows × 7 columns</p>\n</div>"
     },
     "execution_count": 58,
     "metadata": {},
     "output_type": "execute_result"
    }
   ],
   "source": [
    "from pathlib import Path\n",
    "\n",
    "import pandas as pd\n",
    "\n",
    "df = pd.read_csv(Path('../../results/repository_evolution_0-4920_MERGED.csv'))\n",
    "df_commits = pd.read_csv(Path('../../data/huggingface_sort_by_createdAt_top996939_commits_0_1035.csv'))\n",
    "\n",
    "# grabs the date from df2 and adds it to df based on commit_hash and repo_url matching, implementation needs to be efficient\n",
    "def add_date_to_df(df, df_commits):\n",
    "    df['date'] = \"\"\n",
    "    for index, row in df.iterrows():\n",
    "        commit_hash = row['commit_hash']\n",
    "        repo_url = row['repo_url']\n",
    "        matched_row = df_commits.loc[\n",
    "            (df_commits['commit_hash'] == commit_hash) & \n",
    "            (df_commits['repo_url'] == repo_url)\n",
    "        ]\n",
    "        \n",
    "        df.at[index, 'date'] = matched_row['date'].values[0]\n",
    "        df.at[index, 'message'] = matched_row['message'].values[0]\n",
    "    return df\n",
    "\n",
    "df = add_date_to_df(df, df_commits)\n",
    "df['date'] = pd.to_datetime(df['date'])\n",
    "\n",
    "# Reference date when safetensors was released\n",
    "reference_date = pd.to_datetime(\"2022-09-23\")\n",
    "\n",
    "# Calculate elapsed days since reference date\n",
    "df['elapsed_days'] = (df['date'] - reference_date).dt.days\n",
    "df"
   ]
  },
  {
   "cell_type": "markdown",
   "source": [
    "## RQ1 How long it took developers to adopt safetensors after its first release?    "
   ],
   "metadata": {
    "collapsed": false
   },
   "id": "9c2c45eabbbdf210"
  },
  {
   "cell_type": "markdown",
   "source": [
    "### Analysis 1: Number of elapsed days since the release of safetensors\n",
    "Compute the number of model files added/changed over time since the release of safetensors."
   ],
   "metadata": {
    "collapsed": false
   },
   "id": "cca5d5b4e93427db"
  },
  {
   "cell_type": "code",
   "outputs": [
    {
     "data": {
      "text/plain": "<Figure size 1000x600 with 1 Axes>",
      "image/png": "[encoded data removed]"
     },
     "metadata": {},
     "output_type": "display_data"
    }
   ],
   "source": [
    "import matplotlib.pyplot as plt\n",
    "\n",
    "# Filter out rows with 'safetensors' serialization format\n",
    "df_safetensors = df[df['serialization_format'] == 'safetensors']\n",
    "\n",
    "# Group by elapsed days to count files modified on each date\n",
    "files_modified_by_day = df_safetensors['elapsed_days'].value_counts().sort_index()\n",
    "\n",
    "# Plotting\n",
    "plt.figure(figsize=(10, 6))\n",
    "plt.plot(files_modified_by_day.index, files_modified_by_day.values, marker='o', linestyle='-')\n",
    "plt.xlabel(\"Days Elapsed Since Sep 23, 2022\")\n",
    "plt.ylabel(\"Number of Files Modified\")\n",
    "plt.title(\"Number of Files Modified by Days Elapsed Since Sep 23, 2022\")\n",
    "plt.grid(True)\n",
    "plt.show()\n"
   ],
   "metadata": {
    "collapsed": false,
    "ExecuteTime": {
     "end_time": "2024-10-26T00:16:31.744583Z",
     "start_time": "2024-10-26T00:16:31.574399Z"
    }
   },
   "id": "b6c6d1c0d5f310fe",
   "execution_count": 59
  },
  {
   "cell_type": "markdown",
   "source": [
    "### Analysis 2: Number of elapsed days since safetensors first appearead in a repo\n"
   ],
   "metadata": {
    "collapsed": false
   },
   "id": "981008ffbfc34f30"
  },
  {
   "cell_type": "code",
   "outputs": [
    {
     "data": {
      "text/plain": "repo_url\nAdharshJolly/HarryPotterBot-Model                            663\nAiLab-IMCS-UL/lvbert                                         586\nAshishkr/query_wellformedness_score                          337\nCAUKiel/JavaBERT                                             178\nCopycats/koelectra-base-v3-generalized-sentiment-analysis    423\n                                                            ... \nyoshitomo-matsubara/bert-large-uncased-mnli                  408\nyoshitomo-matsubara/bert-large-uncased-mrpc                  408\nyoshitomo-matsubara/bert-large-uncased-rte                   408\nyoshitomo-matsubara/bert-large-uncased-sst2                  408\nz-dickson/US_politicians_covid_skepticism                    449\nName: elapsed_days, Length: 412, dtype: int64"
     },
     "execution_count": 61,
     "metadata": {},
     "output_type": "execute_result"
    }
   ],
   "source": [
    "import matplotlib.pyplot as plt\n",
    "\n",
    "# Filter out rows with 'safetensors' serialization format\n",
    "df_safetensors = df[df['serialization_format'] == 'safetensors']\n",
    "\n",
    "# Group by elapsed days to count files modified on each date\n",
    "files_modified_by_day = df_safetensors['elapsed_days'].value_counts().sort_index()\n",
    "\n",
    "# find the lowest number of elapsed days per unique repo_url\n",
    "df_safetensors_first_appearance = df_safetensors.groupby('repo_url')['elapsed_days'].min()\n",
    "\n",
    "# \n",
    "\n",
    "# # plot df_safetensors_first_appearance\n",
    "# plt.figure(figsize=(10, 6))\n",
    "# plt.plot(df_safetensors_first_appearance.index, df_safetensors_first_appearance.values, marker='o', linestyle='-')\n",
    "# plt.xlabel(\"Days Elapsed Since Sep 23, 2022\")\n",
    "# plt.ylabel(\"Number of Files Modified\")\n",
    "# plt.title(\"Number of Files Modified by Days Elapsed Since Sep 23, 2022\")\n",
    "# plt.grid(True)\n",
    "# plt.show()\n",
    "\n",
    "\n",
    "# Plotting\n",
    "# plt.figure(figsize=(10, 6))\n",
    "# plt.plot(files_modified_by_day.index, files_modified_by_day.values, marker='o', linestyle='-')\n",
    "# plt.xlabel(\"Days Elapsed Since Sep 23, 2022\")\n",
    "# plt.ylabel(\"Number of Files Modified\")\n",
    "# plt.title(\"Number of Files Modified by Days Elapsed Since Sep 23, 2022\")\n",
    "# plt.grid(True)\n",
    "# plt.show()\n"
   ],
   "metadata": {
    "collapsed": false,
    "ExecuteTime": {
     "end_time": "2024-10-26T00:20:22.472274Z",
     "start_time": "2024-10-26T00:20:22.460848Z"
    }
   },
   "id": "74cf9c722ec3204d",
   "execution_count": 61
  },
  {
   "cell_type": "markdown",
   "source": [
    "### Visualization of serialization format over the years"
   ],
   "metadata": {
    "collapsed": false
   },
   "id": "6f956ca28c5626bf"
  },
  {
   "cell_type": "code",
   "outputs": [],
   "source": [
    "import pandas as pd\n",
    "import matplotlib.pyplot as plt\n",
    "import numpy as np\n",
    "# Sample data\n",
    "df_by_date = df[['date', 'serialization_format']]\n",
    "\n",
    "# Convert the 'date' column to datetime and extract the year\n",
    "df_by_date['date'] = pd.to_datetime(df_by_date['date'])\n",
    "df_by_date.loc[:, 'year'] = df_by_date['date'].dt.year\n",
    "\n",
    "# Group by year and serialization format, then count occurrences\n",
    "grouped = df_by_date.groupby(['year', 'serialization_format']).size().unstack(fill_value=0)\n",
    "\n",
    "# Normalize the values to 100%\n",
    "grouped_percentage = grouped.div(grouped.sum(axis=1), axis=0) * 100\n",
    "\n",
    "# Plot\n",
    "fig, ax = plt.subplots(figsize=(10, 4))\n",
    "\n",
    "# Cumulative values for stacked bars\n",
    "cumulative_values = np.zeros(len(grouped_percentage))\n",
    "\n",
    "for serialization_format in grouped_percentage.columns:\n",
    "    ax.bar(grouped_percentage.index, grouped_percentage[serialization_format], \n",
    "           bottom=cumulative_values, label=serialization_format)\n",
    "    cumulative_values += grouped_percentage[serialization_format]\n",
    "\n",
    "# Add labels and title\n",
    "ax.set_ylabel('Percentage')\n",
    "ax.set_xlabel('Year')\n",
    "ax.set_title('100% Stacked Serialization Format Distribution Over Years')\n",
    "# ax.legend(title='Serialization Format')\n",
    "# Move the legend outside of the plot\n",
    "ax.legend(title='Serialization Format', bbox_to_anchor=(1.05, 1), loc='upper left')\n",
    "# Adjust the plot layout to make room for the legend\n",
    "plt.tight_layout(rect=[0, 0, 0.85, 1])\n",
    "\n",
    "\n",
    "plt.show()\n"
   ],
   "metadata": {
    "collapsed": false
   },
   "id": "7aa62baf68bc02b9",
   "execution_count": null
  },
  {
   "cell_type": "code",
   "outputs": [],
   "source": [
    "import pandas as pd\n",
    "import matplotlib.pyplot as plt\n",
    "\n",
    "\n",
    "\n",
    "# Convert the 'date' column to datetime\n",
    "df['date'] = pd.to_datetime(df['date'])\n",
    "\n",
    "# Extract the year from the 'date' column\n",
    "df['year'] = df['date'].dt.year\n",
    "\n",
    "# Group by year and serialization format, then count occurrences\n",
    "grouped = df.groupby(['year', 'serialization_format']).size().unstack(fill_value=0)\n",
    "\n",
    "# Normalize the values to 100%\n",
    "grouped_percentage = grouped.div(grouped.sum(axis=1), axis=0) * 100\n",
    "\n",
    "# Plot the line chart\n",
    "fig, ax = plt.subplots(figsize=(10, 4)) \n",
    "\n",
    "# Plot lines for each serialization format\n",
    "for serialization_format in grouped_percentage.columns:\n",
    "    ax.plot(grouped_percentage.index, grouped_percentage[serialization_format], marker='x', label=serialization_format)\n",
    "\n",
    "# Add labels and title\n",
    "ax.set_ylabel('Percentage')\n",
    "ax.set_xlabel('Year')\n",
    "ax.set_title('Serialization Format Distribution Over Years')\n",
    "# ax.legend(title='Serialization Format')\n",
    "# Move the legend outside of the plot\n",
    "ax.legend(title='Serialization Format', bbox_to_anchor=(1.05, 1), loc='upper left')\n",
    "\n",
    "# Adjust the plot layout to make room for the legend\n",
    "plt.tight_layout(rect=[0, 0, 0.85, 1])  # Adjust the rectangle to fit the legend\n",
    "\n",
    "plt.show()\n",
    "\n"
   ],
   "metadata": {
    "collapsed": false
   },
   "id": "8b55adf3127b2a57",
   "execution_count": null
  },
  {
   "cell_type": "code",
   "outputs": [],
   "source": [
    "import pandas as pd\n",
    "import matplotlib.pyplot as plt\n",
    "\n",
    "# Convert the 'date' column to datetime\n",
    "df['date'] = pd.to_datetime(df['date'])\n",
    "\n",
    "# Extract the year from the 'date' column\n",
    "df['year'] = df['date'].dt.year\n",
    "\n",
    "# Filter out rows with 'undetermined' serialization format\n",
    "filtered_df = df[df['serialization_format'] != 'undetermined']\n",
    "# Group by year and serialization format, then count occurrences\n",
    "grouped_counts = filtered_df.groupby(['year', 'serialization_format']).size().unstack(fill_value=0)\n",
    "\n",
    "# Set the size of the figure (width, height)\n",
    "fig, ax = plt.subplots(figsize=(10, 6))  # Adjust width and height as needed\n",
    "\n",
    "# Plot the line chart with counts\n",
    "for serialization_format in grouped_counts.columns:\n",
    "    ax.plot(grouped_counts.index, grouped_counts[serialization_format], marker='o', label=serialization_format)\n",
    "\n",
    "# Add labels and title\n",
    "ax.set_ylabel('# Model Files')\n",
    "ax.set_xlabel('Year')\n",
    "ax.set_title('Serialization Format Totals Over Years')\n",
    "\n",
    "# Move the legend outside of the plot\n",
    "ax.legend(title='Serialization Format', bbox_to_anchor=(1.05, 1), loc='upper left')\n",
    "\n",
    "# Adjust the plot layout to make room for the legend\n",
    "plt.tight_layout(rect=[0, 0, 0.85, 1])\n",
    "\n",
    "plt.show()\n"
   ],
   "metadata": {
    "collapsed": false
   },
   "id": "b9c07f6088e47747",
   "execution_count": null
  }
 ],
 "metadata": {
  "kernelspec": {
   "display_name": "Python 3",
   "language": "python",
   "name": "python3"
  },
  "language_info": {
   "codemirror_mode": {
    "name": "ipython",
    "version": 2
   },
   "file_extension": ".py",
   "mimetype": "text/x-python",
   "name": "python",
   "nbconvert_exporter": "python",
   "pygments_lexer": "ipython2",
   "version": "2.7.6"
  }
 },
 "nbformat": 4,
 "nbformat_minor": 5
}
