{
 "cells": [
  {
   "cell_type": "markdown",
   "source": [
    "## RQ2 Analysis\n",
    "This notebook contains the analysis for RQ2. The goal of this analysis is to understand the evolution of the serialization format used in the dataset over the years."
   ],
   "metadata": {
    "collapsed": false
   },
   "id": "370606d2b364158e"
  },
  {
   "cell_type": "markdown",
   "source": [
    "### Load the data"
   ],
   "metadata": {
    "collapsed": false
   },
   "id": "eca52383671c2afb"
  },
  {
   "cell_type": "code",
   "execution_count": null,
   "outputs": [],
   "source": [
    "from pathlib import Path\n",
    "\n",
    "import pandas as pd\n",
    "\n",
    "df = pd.read_csv(Path('../../results/repository_evolution_0-4924_fixed_bug_MERGED.csv'))\n",
    "df_commits = pd.read_csv(Path('../../data/huggingface_sort_by_createdAt_top996939_commits_0_1035.csv'))\n",
    "\n",
    "# grabs the date from df2 and adds it to df based on commit_hash and repo_url matching, implementation needs to be efficient\n",
    "def add_date_to_df(df, df_commits):\n",
    "    df['date'] = \"\"\n",
    "    for index, row in df.iterrows():\n",
    "        commit_hash = row['commit_hash']\n",
    "        repo_url = row['repo_url']\n",
    "        matched_row = df_commits.loc[\n",
    "            (df_commits['commit_hash'] == commit_hash) & \n",
    "            (df_commits['repo_url'] == repo_url)\n",
    "        ]\n",
    "        \n",
    "        df.at[index, 'date'] = matched_row['date'].values[0]\n",
    "        df.at[index, 'message'] = matched_row['message'].values[0]\n",
    "    return df\n",
    "\n",
    "df = add_date_to_df(df, df_commits)\n",
    "df['date'] = pd.to_datetime(df['date'])\n",
    "\n",
    "# Reference date when safetensors was released\n",
    "reference_date = pd.to_datetime(\"2022-09-23\")\n",
    "\n",
    "# Calculate elapsed days since reference date\n",
    "df['elapsed_days'] = (df['date'] - reference_date).dt.days\n",
    "df"
   ],
   "metadata": {
    "collapsed": false
   },
   "id": "a4dae0a2eeca51ab"
  },
  {
   "cell_type": "markdown",
   "source": [
    "### Visualization of serialization format over the years"
   ],
   "metadata": {
    "collapsed": false
   },
   "id": "8ea3a5c50a230ce3"
  },
  {
   "cell_type": "code",
   "execution_count": null,
   "id": "initial_id",
   "metadata": {
    "collapsed": true
   },
   "outputs": [],
   "source": [
    "import pandas as pd\n",
    "import matplotlib.pyplot as plt\n",
    "import numpy as np\n",
    "# Sample data\n",
    "df_by_date = df[['date', 'serialization_format']]\n",
    "\n",
    "# Convert the 'date' column to datetime and extract the year\n",
    "df_by_date['date'] = pd.to_datetime(df_by_date['date'])\n",
    "df_by_date.loc[:, 'year'] = df_by_date['date'].dt.year\n",
    "\n",
    "# Group by year and serialization format, then count occurrences\n",
    "grouped = df_by_date.groupby(['year', 'serialization_format']).size().unstack(fill_value=0)\n",
    "\n",
    "# Normalize the values to 100%\n",
    "grouped_percentage = grouped.div(grouped.sum(axis=1), axis=0) * 100\n",
    "\n",
    "# Plot\n",
    "fig, ax = plt.subplots(figsize=(10, 4))\n",
    "\n",
    "# Cumulative values for stacked bars\n",
    "cumulative_values = np.zeros(len(grouped_percentage))\n",
    "\n",
    "for serialization_format in grouped_percentage.columns:\n",
    "    ax.bar(grouped_percentage.index, grouped_percentage[serialization_format], \n",
    "           bottom=cumulative_values, label=serialization_format)\n",
    "    cumulative_values += grouped_percentage[serialization_format]\n",
    "\n",
    "# Add labels and title\n",
    "ax.set_ylabel('Percentage')\n",
    "ax.set_xlabel('Year')\n",
    "ax.set_title('100% Stacked Serialization Format Distribution Over Years')\n",
    "# ax.legend(title='Serialization Format')\n",
    "# Move the legend outside of the plot\n",
    "ax.legend(title='Serialization Format', bbox_to_anchor=(1.05, 1), loc='upper left')\n",
    "# Adjust the plot layout to make room for the legend\n",
    "plt.tight_layout(rect=[0, 0, 0.85, 1])\n",
    "\n",
    "\n",
    "plt.show()\n"
   ]
  },
  {
   "cell_type": "code",
   "execution_count": null,
   "outputs": [],
   "source": [
    "import pandas as pd\n",
    "import matplotlib.pyplot as plt\n",
    "\n",
    "\n",
    "\n",
    "# Convert the 'date' column to datetime\n",
    "df['date'] = pd.to_datetime(df['date'])\n",
    "\n",
    "# Extract the year from the 'date' column\n",
    "df['year'] = df['date'].dt.year\n",
    "\n",
    "# Group by year and serialization format, then count occurrences\n",
    "grouped = df.groupby(['year', 'serialization_format']).size().unstack(fill_value=0)\n",
    "\n",
    "# Normalize the values to 100%\n",
    "grouped_percentage = grouped.div(grouped.sum(axis=1), axis=0) * 100\n",
    "\n",
    "# Plot the line chart\n",
    "fig, ax = plt.subplots(figsize=(10, 4)) \n",
    "\n",
    "# Plot lines for each serialization format\n",
    "for serialization_format in grouped_percentage.columns:\n",
    "    ax.plot(grouped_percentage.index, grouped_percentage[serialization_format], marker='x', label=serialization_format)\n",
    "\n",
    "# Add labels and title\n",
    "ax.set_ylabel('Percentage')\n",
    "ax.set_xlabel('Year')\n",
    "ax.set_title('Serialization Format Distribution Over Years')\n",
    "# ax.legend(title='Serialization Format')\n",
    "# Move the legend outside of the plot\n",
    "ax.legend(title='Serialization Format', bbox_to_anchor=(1.05, 1), loc='upper left')\n",
    "\n",
    "# Adjust the plot layout to make room for the legend\n",
    "plt.tight_layout(rect=[0, 0, 0.85, 1])  # Adjust the rectangle to fit the legend\n",
    "\n",
    "plt.show()\n",
    "\n"
   ],
   "metadata": {
    "collapsed": false
   },
   "id": "e2881e707e31b470"
  },
  {
   "cell_type": "code",
   "execution_count": null,
   "outputs": [],
   "source": [
    "import pandas as pd\n",
    "import matplotlib.pyplot as plt\n",
    "\n",
    "# Convert the 'date' column to datetime\n",
    "df['date'] = pd.to_datetime(df['date'])\n",
    "\n",
    "# Extract the year from the 'date' column\n",
    "df['year'] = df['date'].dt.year\n",
    "\n",
    "# Filter out rows with 'undetermined' serialization format\n",
    "filtered_df = df[df['serialization_format'] != 'undetermined']\n",
    "# Group by year and serialization format, then count occurrences\n",
    "grouped_counts = filtered_df.groupby(['year', 'serialization_format']).size().unstack(fill_value=0)\n",
    "\n",
    "# Set the size of the figure (width, height)\n",
    "fig, ax = plt.subplots(figsize=(10, 6))  # Adjust width and height as needed\n",
    "\n",
    "# Plot the line chart with counts\n",
    "for serialization_format in grouped_counts.columns:\n",
    "    ax.plot(grouped_counts.index, grouped_counts[serialization_format], marker='o', label=serialization_format)\n",
    "\n",
    "# Add labels and title\n",
    "ax.set_ylabel('# Model Files')\n",
    "ax.set_xlabel('Year')\n",
    "ax.set_title('Serialization Format Totals Over Years')\n",
    "\n",
    "# Move the legend outside of the plot\n",
    "ax.legend(title='Serialization Format', bbox_to_anchor=(1.05, 1), loc='upper left')\n",
    "\n",
    "# Adjust the plot layout to make room for the legend\n",
    "plt.tight_layout(rect=[0, 0, 0.85, 1])\n",
    "\n",
    "plt.show()\n"
   ],
   "metadata": {
    "collapsed": false
   },
   "id": "238e984172ef998c"
  }
 ],
 "metadata": {
  "kernelspec": {
   "display_name": "Python 3",
   "language": "python",
   "name": "python3"
  },
  "language_info": {
   "codemirror_mode": {
    "name": "ipython",
    "version": 2
   },
   "file_extension": ".py",
   "mimetype": "text/x-python",
   "name": "python",
   "nbconvert_exporter": "python",
   "pygments_lexer": "ipython2",
   "version": "2.7.6"
  }
 },
 "nbformat": 4,
 "nbformat_minor": 5
}
