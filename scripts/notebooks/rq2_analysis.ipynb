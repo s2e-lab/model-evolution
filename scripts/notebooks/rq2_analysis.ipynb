{
 "cells": [
  {
   "cell_type": "markdown",
   "id": "370606d2b364158e",
   "metadata": {
    "collapsed": false
   },
   "source": [
    "# RQ2 Analysis\n",
    "This notebook contains the analysis for RQ2. The goal of this analysis is to understand the evolution of the serialization format used in the dataset over the years."
   ]
  },
  {
   "cell_type": "markdown",
   "source": [
    "## Select the dataset to analyze"
   ],
   "metadata": {
    "collapsed": false
   },
   "id": "5463114f521a8bf0"
  },
  {
   "cell_type": "code",
   "source": "group_under_analysis = 'both'  # change this to 'legacy' or 'recent' to analyze the corresponding dataset",
   "metadata": {
    "collapsed": false,
    "ExecuteTime": {
     "end_time": "2025-06-11T13:35:42.502933Z",
     "start_time": "2025-06-11T13:35:42.501083Z"
    }
   },
   "id": "b3e28be7273308e9",
   "outputs": [],
   "execution_count": 2
  },
  {
   "cell_type": "markdown",
   "id": "eca52383671c2afb",
   "metadata": {
    "collapsed": false
   },
   "source": [
    "## Load the data\n",
    "The data is loaded from the `read_repositories_evolution` function, which reads the evolution of repositories from a CSV file. The data contains the commit hash, date, repository URL, and serialization format for each model file in the tree at the time."
   ]
  },
  {
   "metadata": {
    "ExecuteTime": {
     "end_time": "2025-06-11T13:36:33.395008Z",
     "start_time": "2025-06-11T13:36:22.771905Z"
    }
   },
   "cell_type": "code",
   "source": [
    "from scripts.notebooks.nb_utils import read_repositories_evolution\n",
    "\n",
    "# model files per repository and the elapsed days between the commit and safetensors' release date\n",
    "df = read_repositories_evolution(group_under_analysis)\n",
    "df['year'] = df['date'].dt.year\n",
    "df['year'] = df['year'].astype(int)  # set year as an integer\n",
    "df['month'] = df['date'].dt.to_period('M')\n",
    "year_range = list(range(df['year'].min(), df['year'].max() + 1))\n",
    "df.head(5)"
   ],
   "id": "cd181eada09d9586",
   "outputs": [
    {
     "name": "stderr",
     "output_type": "stream",
     "text": [
      "100%|██████████| 30353/30353 [00:00<00:00, 80117.73commit/s]\n",
      "100%|██████████| 527512/527512 [00:06<00:00, 84387.15commit/s]\n",
      "100%|██████████| 28248/28248 [00:00<00:00, 90925.53commit/s]\n",
      "100%|██████████| 51900/51900 [00:00<00:00, 73396.42commit/s]\n"
     ]
    },
    {
     "data": {
      "text/plain": [
       "                            repo_url  \\\n",
       "0  SidXXD/Pattern_d_0.60_Man_1_Eps_8   \n",
       "1  SidXXD/Pattern_d_0.60_Man_1_Eps_8   \n",
       "2  SidXXD/Pattern_d_0.60_Man_1_Eps_8   \n",
       "3  SidXXD/Pattern_d_0.60_Man_1_Eps_8   \n",
       "4  SidXXD/Pattern_d_0.60_Man_1_Eps_8   \n",
       "\n",
       "                                commit_hash  \\\n",
       "0  9b2be96bb789b1aff091e8ba8e41a5fbeb2705c1   \n",
       "1  9b2be96bb789b1aff091e8ba8e41a5fbeb2705c1   \n",
       "2  9b2be96bb789b1aff091e8ba8e41a5fbeb2705c1   \n",
       "3  9b2be96bb789b1aff091e8ba8e41a5fbeb2705c1   \n",
       "4  9b2be96bb789b1aff091e8ba8e41a5fbeb2705c1   \n",
       "\n",
       "                                     model_file_path serialization_format  \\\n",
       "0        SidXXD/Pattern_d_0.60_Man_1_Eps_8/<v1*>.bin           torch.save   \n",
       "1  SidXXD/Pattern_d_0.60_Man_1_Eps_8/pytorch_cust...           torch.save   \n",
       "2  SidXXD/Pattern_d_0.60_Man_1_Eps_8/checkpoint-2...           torch.save   \n",
       "3  SidXXD/Pattern_d_0.60_Man_1_Eps_8/checkpoint-2...          safetensors   \n",
       "4  SidXXD/Pattern_d_0.60_Man_1_Eps_8/checkpoint-2...          safetensors   \n",
       "\n",
       "           message  author                date  is_in_commit  elapsed_days  \\\n",
       "0  End of training  XideXu 2024-10-23 05:14:58          True           762   \n",
       "1  End of training  XideXu 2024-10-23 05:14:58          True           762   \n",
       "2  End of training  XideXu 2024-10-23 05:14:58          True           762   \n",
       "3  End of training  XideXu 2024-10-23 05:14:58          True           762   \n",
       "4  End of training  XideXu 2024-10-23 05:14:58          True           762   \n",
       "\n",
       "  change_status  year    month  \n",
       "0             *  2024  2024-10  \n",
       "1             *  2024  2024-10  \n",
       "2             *  2024  2024-10  \n",
       "3             *  2024  2024-10  \n",
       "4             *  2024  2024-10  "
      ],
      "text/html": [
       "<div>\n",
       "<style scoped>\n",
       "    .dataframe tbody tr th:only-of-type {\n",
       "        vertical-align: middle;\n",
       "    }\n",
       "\n",
       "    .dataframe tbody tr th {\n",
       "        vertical-align: top;\n",
       "    }\n",
       "\n",
       "    .dataframe thead th {\n",
       "        text-align: right;\n",
       "    }\n",
       "</style>\n",
       "<table border=\"1\" class=\"dataframe\">\n",
       "  <thead>\n",
       "    <tr style=\"text-align: right;\">\n",
       "      <th></th>\n",
       "      <th>repo_url</th>\n",
       "      <th>commit_hash</th>\n",
       "      <th>model_file_path</th>\n",
       "      <th>serialization_format</th>\n",
       "      <th>message</th>\n",
       "      <th>author</th>\n",
       "      <th>date</th>\n",
       "      <th>is_in_commit</th>\n",
       "      <th>elapsed_days</th>\n",
       "      <th>change_status</th>\n",
       "      <th>year</th>\n",
       "      <th>month</th>\n",
       "    </tr>\n",
       "  </thead>\n",
       "  <tbody>\n",
       "    <tr>\n",
       "      <th>0</th>\n",
       "      <td>SidXXD/Pattern_d_0.60_Man_1_Eps_8</td>\n",
       "      <td>9b2be96bb789b1aff091e8ba8e41a5fbeb2705c1</td>\n",
       "      <td>SidXXD/Pattern_d_0.60_Man_1_Eps_8/&lt;v1*&gt;.bin</td>\n",
       "      <td>torch.save</td>\n",
       "      <td>End of training</td>\n",
       "      <td>XideXu</td>\n",
       "      <td>2024-10-23 05:14:58</td>\n",
       "      <td>True</td>\n",
       "      <td>762</td>\n",
       "      <td>*</td>\n",
       "      <td>2024</td>\n",
       "      <td>2024-10</td>\n",
       "    </tr>\n",
       "    <tr>\n",
       "      <th>1</th>\n",
       "      <td>SidXXD/Pattern_d_0.60_Man_1_Eps_8</td>\n",
       "      <td>9b2be96bb789b1aff091e8ba8e41a5fbeb2705c1</td>\n",
       "      <td>SidXXD/Pattern_d_0.60_Man_1_Eps_8/pytorch_cust...</td>\n",
       "      <td>torch.save</td>\n",
       "      <td>End of training</td>\n",
       "      <td>XideXu</td>\n",
       "      <td>2024-10-23 05:14:58</td>\n",
       "      <td>True</td>\n",
       "      <td>762</td>\n",
       "      <td>*</td>\n",
       "      <td>2024</td>\n",
       "      <td>2024-10</td>\n",
       "    </tr>\n",
       "    <tr>\n",
       "      <th>2</th>\n",
       "      <td>SidXXD/Pattern_d_0.60_Man_1_Eps_8</td>\n",
       "      <td>9b2be96bb789b1aff091e8ba8e41a5fbeb2705c1</td>\n",
       "      <td>SidXXD/Pattern_d_0.60_Man_1_Eps_8/checkpoint-2...</td>\n",
       "      <td>torch.save</td>\n",
       "      <td>End of training</td>\n",
       "      <td>XideXu</td>\n",
       "      <td>2024-10-23 05:14:58</td>\n",
       "      <td>True</td>\n",
       "      <td>762</td>\n",
       "      <td>*</td>\n",
       "      <td>2024</td>\n",
       "      <td>2024-10</td>\n",
       "    </tr>\n",
       "    <tr>\n",
       "      <th>3</th>\n",
       "      <td>SidXXD/Pattern_d_0.60_Man_1_Eps_8</td>\n",
       "      <td>9b2be96bb789b1aff091e8ba8e41a5fbeb2705c1</td>\n",
       "      <td>SidXXD/Pattern_d_0.60_Man_1_Eps_8/checkpoint-2...</td>\n",
       "      <td>safetensors</td>\n",
       "      <td>End of training</td>\n",
       "      <td>XideXu</td>\n",
       "      <td>2024-10-23 05:14:58</td>\n",
       "      <td>True</td>\n",
       "      <td>762</td>\n",
       "      <td>*</td>\n",
       "      <td>2024</td>\n",
       "      <td>2024-10</td>\n",
       "    </tr>\n",
       "    <tr>\n",
       "      <th>4</th>\n",
       "      <td>SidXXD/Pattern_d_0.60_Man_1_Eps_8</td>\n",
       "      <td>9b2be96bb789b1aff091e8ba8e41a5fbeb2705c1</td>\n",
       "      <td>SidXXD/Pattern_d_0.60_Man_1_Eps_8/checkpoint-2...</td>\n",
       "      <td>safetensors</td>\n",
       "      <td>End of training</td>\n",
       "      <td>XideXu</td>\n",
       "      <td>2024-10-23 05:14:58</td>\n",
       "      <td>True</td>\n",
       "      <td>762</td>\n",
       "      <td>*</td>\n",
       "      <td>2024</td>\n",
       "      <td>2024-10</td>\n",
       "    </tr>\n",
       "  </tbody>\n",
       "</table>\n",
       "</div>"
      ]
     },
     "execution_count": 4,
     "metadata": {},
     "output_type": "execute_result"
    }
   ],
   "execution_count": 4
  },
  {
   "metadata": {},
   "cell_type": "markdown",
   "source": [
    "## Prepare the data\n",
    "For each repository, we want to find the last commit hash per year. If a repository does not have a commit hash for a specific year, we will use the last commit hash from the previous year(s)."
   ],
   "id": "118839f567d8a2c4"
  },
  {
   "metadata": {
    "ExecuteTime": {
     "end_time": "2025-06-10T17:59:45.263408Z",
     "start_time": "2025-06-10T17:59:43.207358Z"
    }
   },
   "cell_type": "code",
   "source": [
    "import pandas as pd\n",
    "# find the last commit hash per repository per year\n",
    "df_last_hash = df.sort_values('date').drop_duplicates(['repo_url', 'year'], keep='last')\n",
    "df_last_hash = df_last_hash[['repo_url', 'year', 'commit_hash', 'date']]\n",
    "\n",
    "# ensure that all repos have one hash a year, if not, use last years'  hash\n",
    "last_hash_per_repo = { (r['repo_url'], r['year']): r for _, r in df_last_hash.iterrows() }\n",
    "for repo_url in df['repo_url'].unique():\n",
    "    for year in year_range:\n",
    "        key = (repo_url, year)\n",
    "        if key not in last_hash_per_repo:\n",
    "            # find the last commit hash from the previous year(s)\n",
    "            for y in range(year, df['year'].min() - 1, -1):\n",
    "                if (repo_url, y) in last_hash_per_repo:\n",
    "                    df_last_hash = pd.concat([df_last_hash, pd.DataFrame({\n",
    "                        'repo_url': [repo_url],\n",
    "                        'year': [year],\n",
    "                        'commit_hash': [last_hash_per_repo[(repo_url, y)]['commit_hash']],\n",
    "                        'date': [last_hash_per_repo[(repo_url, y)]['date']]\n",
    "                    })], ignore_index=True)\n",
    "                    break\n",
    "\n",
    "# df_last_hash[df_last_hash['repo_url'] == 'google-bert/bert-base-chinese']\n",
    "df_last_hash"
   ],
   "id": "cde6754d832908d5",
   "outputs": [
    {
     "data": {
      "text/plain": [
       "                                               repo_url  year  \\\n",
       "0                         google-bert/bert-base-chinese  2019   \n",
       "1                    google-bert/bert-base-german-cased  2019   \n",
       "2                           google-bert/bert-base-cased  2019   \n",
       "3              google-bert/bert-base-multilingual-cased  2019   \n",
       "4            google-bert/bert-base-multilingual-uncased  2019   \n",
       "...                                                 ...   ...   \n",
       "9158              anshajgoyal/Parakeet_Paraphraser_BART  2023   \n",
       "9159              anshajgoyal/Parakeet_Paraphraser_BART  2024   \n",
       "9160  pszemraj/long-t5-tglobal-large-pubmed-3k-books...  2023   \n",
       "9161  pszemraj/long-t5-tglobal-large-pubmed-3k-books...  2024   \n",
       "9162           rufimelo/Legal-BERTimbau-sts-large-ma-v3  2023   \n",
       "\n",
       "                                   commit_hash                date  \n",
       "0     950c40988e07db03a2607e82a1674d6b37491223 2019-09-23 15:48:20  \n",
       "1     ca80a78ef12ccb3145dfbc8bf0fe19965827a174 2019-09-23 15:48:20  \n",
       "2     e76fcde176cc191c231702e4311a54dd14f8f6bb 2019-09-23 15:48:20  \n",
       "3     ebdb80f5e8045cb7f0b43f23f1e83314e05a985f 2019-09-23 15:48:20  \n",
       "4     02732585e9537735787afcdf8548d2b01caa431c 2019-09-23 15:48:20  \n",
       "...                                        ...                 ...  \n",
       "9158  0cda074fc0480619355fae69669857773153fc76 2022-09-20 15:32:09  \n",
       "9159  0cda074fc0480619355fae69669857773153fc76 2022-09-20 15:32:09  \n",
       "9160  95c446c31b2867b2e5f4472630aeaf1faf1e90f5 2022-09-20 17:23:53  \n",
       "9161  95c446c31b2867b2e5f4472630aeaf1faf1e90f5 2022-09-20 17:23:53  \n",
       "9162  86e902e0ccaa38d5105091d56a0b5247bd135219 2022-09-21 16:58:11  \n",
       "\n",
       "[9163 rows x 4 columns]"
      ],
      "text/html": [
       "<div>\n",
       "<style scoped>\n",
       "    .dataframe tbody tr th:only-of-type {\n",
       "        vertical-align: middle;\n",
       "    }\n",
       "\n",
       "    .dataframe tbody tr th {\n",
       "        vertical-align: top;\n",
       "    }\n",
       "\n",
       "    .dataframe thead th {\n",
       "        text-align: right;\n",
       "    }\n",
       "</style>\n",
       "<table border=\"1\" class=\"dataframe\">\n",
       "  <thead>\n",
       "    <tr style=\"text-align: right;\">\n",
       "      <th></th>\n",
       "      <th>repo_url</th>\n",
       "      <th>year</th>\n",
       "      <th>commit_hash</th>\n",
       "      <th>date</th>\n",
       "    </tr>\n",
       "  </thead>\n",
       "  <tbody>\n",
       "    <tr>\n",
       "      <th>0</th>\n",
       "      <td>google-bert/bert-base-chinese</td>\n",
       "      <td>2019</td>\n",
       "      <td>950c40988e07db03a2607e82a1674d6b37491223</td>\n",
       "      <td>2019-09-23 15:48:20</td>\n",
       "    </tr>\n",
       "    <tr>\n",
       "      <th>1</th>\n",
       "      <td>google-bert/bert-base-german-cased</td>\n",
       "      <td>2019</td>\n",
       "      <td>ca80a78ef12ccb3145dfbc8bf0fe19965827a174</td>\n",
       "      <td>2019-09-23 15:48:20</td>\n",
       "    </tr>\n",
       "    <tr>\n",
       "      <th>2</th>\n",
       "      <td>google-bert/bert-base-cased</td>\n",
       "      <td>2019</td>\n",
       "      <td>e76fcde176cc191c231702e4311a54dd14f8f6bb</td>\n",
       "      <td>2019-09-23 15:48:20</td>\n",
       "    </tr>\n",
       "    <tr>\n",
       "      <th>3</th>\n",
       "      <td>google-bert/bert-base-multilingual-cased</td>\n",
       "      <td>2019</td>\n",
       "      <td>ebdb80f5e8045cb7f0b43f23f1e83314e05a985f</td>\n",
       "      <td>2019-09-23 15:48:20</td>\n",
       "    </tr>\n",
       "    <tr>\n",
       "      <th>4</th>\n",
       "      <td>google-bert/bert-base-multilingual-uncased</td>\n",
       "      <td>2019</td>\n",
       "      <td>02732585e9537735787afcdf8548d2b01caa431c</td>\n",
       "      <td>2019-09-23 15:48:20</td>\n",
       "    </tr>\n",
       "    <tr>\n",
       "      <th>...</th>\n",
       "      <td>...</td>\n",
       "      <td>...</td>\n",
       "      <td>...</td>\n",
       "      <td>...</td>\n",
       "    </tr>\n",
       "    <tr>\n",
       "      <th>9158</th>\n",
       "      <td>anshajgoyal/Parakeet_Paraphraser_BART</td>\n",
       "      <td>2023</td>\n",
       "      <td>0cda074fc0480619355fae69669857773153fc76</td>\n",
       "      <td>2022-09-20 15:32:09</td>\n",
       "    </tr>\n",
       "    <tr>\n",
       "      <th>9159</th>\n",
       "      <td>anshajgoyal/Parakeet_Paraphraser_BART</td>\n",
       "      <td>2024</td>\n",
       "      <td>0cda074fc0480619355fae69669857773153fc76</td>\n",
       "      <td>2022-09-20 15:32:09</td>\n",
       "    </tr>\n",
       "    <tr>\n",
       "      <th>9160</th>\n",
       "      <td>pszemraj/long-t5-tglobal-large-pubmed-3k-books...</td>\n",
       "      <td>2023</td>\n",
       "      <td>95c446c31b2867b2e5f4472630aeaf1faf1e90f5</td>\n",
       "      <td>2022-09-20 17:23:53</td>\n",
       "    </tr>\n",
       "    <tr>\n",
       "      <th>9161</th>\n",
       "      <td>pszemraj/long-t5-tglobal-large-pubmed-3k-books...</td>\n",
       "      <td>2024</td>\n",
       "      <td>95c446c31b2867b2e5f4472630aeaf1faf1e90f5</td>\n",
       "      <td>2022-09-20 17:23:53</td>\n",
       "    </tr>\n",
       "    <tr>\n",
       "      <th>9162</th>\n",
       "      <td>rufimelo/Legal-BERTimbau-sts-large-ma-v3</td>\n",
       "      <td>2023</td>\n",
       "      <td>86e902e0ccaa38d5105091d56a0b5247bd135219</td>\n",
       "      <td>2022-09-21 16:58:11</td>\n",
       "    </tr>\n",
       "  </tbody>\n",
       "</table>\n",
       "<p>9163 rows × 4 columns</p>\n",
       "</div>"
      ]
     },
     "execution_count": 25,
     "metadata": {},
     "output_type": "execute_result"
    }
   ],
   "execution_count": 25
  },
  {
   "metadata": {
    "ExecuteTime": {
     "end_time": "2025-06-10T17:59:45.348292Z",
     "start_time": "2025-06-10T17:59:45.287841Z"
    }
   },
   "cell_type": "code",
   "source": [
    "# filter df such that it  only keeps the rows in df if the commit hash is the last commit hash in the repository URL\n",
    "df = df.merge(df_last_hash, on=['repo_url', 'year', 'date', 'commit_hash'], how='inner')\n",
    "print(\"Min date\", df['date'].min(), \"Max date\", df['date'].max())"
   ],
   "id": "1ff638388c7c4912",
   "outputs": [
    {
     "name": "stdout",
     "output_type": "stream",
     "text": [
      "Min date 2019-09-23 15:48:20 Max date 2024-12-31 12:30:54\n"
     ]
    }
   ],
   "execution_count": 26
  },
  {
   "cell_type": "markdown",
   "id": "8ea3a5c50a230ce3",
   "metadata": {
    "collapsed": false
   },
   "source": [
    "## Visualization of serialization format distribution over the years"
   ]
  },
  {
   "cell_type": "code",
   "source": [
    "title_suffix = f'({group_under_analysis.capitalize()} Repositories)' if group_under_analysis != 'both' else '(All Repositories)'\n",
    "fig_dimensions = (7, 4) if group_under_analysis != 'recent' else (6, 4)"
   ],
   "metadata": {
    "collapsed": false,
    "ExecuteTime": {
     "end_time": "2025-06-10T17:59:45.372010Z",
     "start_time": "2025-06-10T17:59:45.370350Z"
    }
   },
   "id": "f11a1738acaaf29b",
   "outputs": [],
   "execution_count": 27
  },
  {
   "cell_type": "markdown",
   "source": [
    "### Stacked Bar Chart"
   ],
   "metadata": {
    "collapsed": false
   },
   "id": "198b992ca8dbc493"
  },
  {
   "cell_type": "code",
   "id": "initial_id",
   "metadata": {
    "collapsed": true,
    "ExecuteTime": {
     "end_time": "2025-06-10T17:59:45.539770Z",
     "start_time": "2025-06-10T17:59:45.419829Z"
    }
   },
   "source": [
    "from nb_utils import RESULTS_DIR\n",
    "import matplotlib.pyplot as plt\n",
    "import numpy as np\n",
    "\n",
    "# Sample dataqa\n",
    "df = df[df['serialization_format'] != 'undetermined']\n",
    "# Compute a slice of the DataFrame with the relevant columns\n",
    "df_by_date = df[['year', 'serialization_format']]\n",
    "\n",
    "# Group by year and serialization format, then count occurrences\n",
    "grouped = df_by_date.groupby(['year', 'serialization_format']).size().unstack(fill_value=0)\n",
    "\n",
    "# Normalize the values to 100%\n",
    "grouped_percentage = grouped.div(grouped.sum(axis=1), axis=0) * 100\n",
    "\n",
    "# Plot\n",
    "fig, ax = plt.subplots(figsize=fig_dimensions)  # Set the figure size based on the group under analysis\n",
    "\n",
    "# Cumulative values for stacked bars\n",
    "cumulative_values = np.zeros(len(grouped_percentage))\n",
    "\n",
    "for serialization_format in grouped_percentage.columns:\n",
    "    ax.bar(grouped_percentage.index, grouped_percentage[serialization_format],\n",
    "           bottom=cumulative_values, label=serialization_format)\n",
    "    cumulative_values += grouped_percentage[serialization_format]\n",
    "\n",
    "# Add labels and title\n",
    "ax.set_ylabel('% Commits')\n",
    "ax.set_xlabel('Year')\n",
    "ax.set_xticks(year_range)  # Tick every year\n",
    "ax.set_title(f'Serialization Format Distribution Over Years {title_suffix}')\n",
    "# Move the legend outside  the plot\n",
    "ax.legend(title='Serialization Format', bbox_to_anchor=(0.5, -0.2), loc='upper center', ncol=7,\n",
    "          labelspacing=0.2,  # Reduce vertical space between labels\n",
    "          handlelength=1.0,  # Shorter line handles\n",
    "          handletextpad=0.4,  # Less space between handle and text\n",
    "          borderaxespad=0.3,  # Padding between legend and axes\n",
    "          borderpad=0.4,  # Padding inside the legend box\n",
    "          columnspacing=0.7  # Horizontal space between columns (if used)\n",
    "          )\n",
    "# Adjust the plot layout to make room for the legend\n",
    "plt.tight_layout(rect=[0, 0, 0.85, 1])\n",
    "\n",
    "# save as pdf\n",
    "plt.savefig(RESULTS_DIR / f'RQ2FormatsStacked_{group_under_analysis}.pdf', format='pdf', bbox_inches='tight')\n",
    "plt.show()\n"
   ],
   "outputs": [
    {
     "data": {
      "text/plain": [
       "<Figure size 700x400 with 1 Axes>"
      ],
      "image/png": "[encoded data removed]"
     },
     "metadata": {},
     "output_type": "display_data"
    }
   ],
   "execution_count": 28
  },
  {
   "cell_type": "markdown",
   "source": [
    "### Line Chart"
   ],
   "metadata": {
    "collapsed": false
   },
   "id": "90c9f825d46c036f"
  },
  {
   "cell_type": "code",
   "id": "e2881e707e31b470",
   "metadata": {
    "collapsed": false,
    "ExecuteTime": {
     "end_time": "2025-06-10T17:59:45.661582Z",
     "start_time": "2025-06-10T17:59:45.554985Z"
    }
   },
   "source": [
    "from nb_utils import RESULTS_DIR\n",
    "import matplotlib.pyplot as plt\n",
    "\n",
    "# Group by year and serialization format, then count occurrences\n",
    "grouped = df.groupby(['year', 'serialization_format']).size().unstack(fill_value=0)\n",
    "\n",
    "# Normalize the values to 100%\n",
    "grouped_percentage = grouped.div(grouped.sum(axis=1), axis=0) * 100\n",
    "\n",
    "# Plot the line chart\n",
    "fig, ax = plt.subplots(figsize=fig_dimensions)  # Set the figure size based on the group under analysis\n",
    "# make y-axis range from 0 to 100\n",
    "ax.set_ylim(-5, 100)\n",
    "\n",
    "# Plot lines for each serialization format\n",
    "for serialization_format in grouped_percentage.columns:\n",
    "    ax.plot(grouped_percentage.index, grouped_percentage[serialization_format], marker='x', label=serialization_format)\n",
    "\n",
    "# Add labels and title\n",
    "ax.set_ylabel('% Commits')\n",
    "ax.set_xlabel('Year')\n",
    "ax.set_xticks(year_range)  # Tick every year\n",
    "ax.set_title(f'Serialization Format Distribution Over Years {title_suffix}')\n",
    "# Move the legend outside  the plot\n",
    "ax.legend(title='Serialization Format', bbox_to_anchor=(0.5, -0.2), loc='upper center', ncol=7,\n",
    "          # fontsize='small',\n",
    "          labelspacing=0.2,  # Reduce vertical space between labels\n",
    "          handlelength=1.0,  # Shorter line handles\n",
    "          handletextpad=0.4,  # Less space between handle and text\n",
    "          borderaxespad=0.3,  # Padding between legend and axes\n",
    "          borderpad=0.4,  # Padding inside the legend box\n",
    "          columnspacing=0.7  # Horizontal space between columns (if used)\n",
    "          )\n",
    "\n",
    "# Adjust the plot layout to make room for the legend\n",
    "plt.tight_layout(rect=[0, 0.1, 0.85, 1])  # Adjust the rectangle to fit the legend\n",
    "\n",
    "# save as pdf\n",
    "plt.savefig(RESULTS_DIR / f'RQ2FormatsDistribution_{group_under_analysis}.pdf', format='pdf', bbox_inches='tight')\n",
    "\n",
    "plt.show()"
   ],
   "outputs": [
    {
     "data": {
      "text/plain": [
       "<Figure size 700x400 with 1 Axes>"
      ],
      "image/png": "[encoded data removed]"
     },
     "metadata": {},
     "output_type": "display_data"
    }
   ],
   "execution_count": 29
  },
  {
   "cell_type": "markdown",
   "source": [
    "### Line Chart with Counts"
   ],
   "metadata": {
    "collapsed": false
   },
   "id": "cc607512e7cfdf43"
  },
  {
   "cell_type": "markdown",
   "source": [
    "import matplotlib.pyplot as plt\n",
    "\n",
    "\n",
    "# Filter out rows with 'undetermined' serialization format\n",
    "filtered_df = df[df['serialization_format'] != 'undetermined']\n",
    "# Group by year and serialization format, then count occurrences\n",
    "grouped_counts = filtered_df.groupby(['year', 'serialization_format']).size().unstack(fill_value=0)\n",
    "\n",
    "# Set the size of the figure (width, height)\n",
    "fig, ax = plt.subplots(figsize=fig_dimensions)  # Set the figure size based on the group under analysis\n",
    "\n",
    "# Plot the line chart with counts\n",
    "for serialization_format in grouped_counts.columns:\n",
    "    ax.plot(grouped_counts.index, grouped_counts[serialization_format], marker='x', label=serialization_format)\n",
    "\n",
    "# Add labels and title\n",
    "ax.set_ylabel('# Model Files')\n",
    "ax.set_xlabel('Year')\n",
    "ax.set_title(f'Serialization Format Cumulative Totals Over Years {title_suffix}')\n",
    "\n",
    "# Move the legend outside of the plot\n",
    "ax.legend(title='Serialization Format',  bbox_to_anchor=(0.5, -0.2), loc='upper center', ncol=7)\n",
    "\n",
    "# Adjust the plot layout to make room for the legend\n",
    "plt.tight_layout(rect=[0, 0.3, 0.85, 1])\n",
    "\n",
    "plt.show()\n"
   ],
   "metadata": {
    "collapsed": false
   },
   "id": "ac3394e1d0c8c03e"
  },
  {
   "cell_type": "markdown",
   "source": [
    "### Visualization monthly"
   ],
   "metadata": {
    "collapsed": false
   },
   "id": "64c5cc0d0636d8a6"
  },
  {
   "cell_type": "markdown",
   "source": [
    "import pandas as pd\n",
    "from scripts.notebooks.nb_utils import read_repositories_evolution\n",
    "# Load the CSV file\n",
    "df = read_repositories_evolution(group_under_analysis)\n",
    "\n",
    "\n",
    "# Display the first few rows to understand the structure of the data\n",
    "df.head()\n",
    "# Convert the 'date' column to datetime format\n",
    "df['date'] = pd.to_datetime(df['date'])\n",
    "\n",
    "# Extract the month-year period for grouping\n",
    "df['month'] = df['date'].dt.to_period('M')\n",
    "\n",
    "# Sort by date to identify the last commit within each group\n",
    "df = df.sort_values(by=['repo_url', 'month', 'date'])\n",
    "\n",
    "# Select the last commit for each repository within each month\n",
    "last_commit_df = df.groupby(['repo_url', 'month']).last().reset_index()\n",
    "\n",
    "# Count the occurrences of each serialization format per month\n",
    "serialization_distribution = last_commit_df.groupby(['month', 'serialization_format']).size().unstack(fill_value=0)\n",
    "\n",
    "# Plotting the distribution using a line chart\n",
    "import matplotlib.pyplot as plt\n",
    "\n",
    "plt.figure(figsize=(12, 6))\n",
    "serialization_distribution.plot(kind='line', marker='x', figsize=(14, 7))\n",
    "plt.title('Monthly Distribution of Serialization Formats (Last Commit per Repo) ' + title_suffix)\n",
    "plt.xlabel('Month')\n",
    "plt.ylabel('Count')\n",
    "plt.xticks(rotation=45)\n",
    "plt.grid(True)\n",
    "plt.legend(title='Serialization Format')\n",
    "plt.tight_layout()\n",
    "plt.show()\n"
   ],
   "metadata": {
    "collapsed": false
   },
   "id": "dec45f509162d36c"
  },
  {
   "cell_type": "markdown",
   "source": [
    "# Calculate the percentage distribution instead of raw counts\n",
    "serialization_percentage_distribution = serialization_distribution.div(serialization_distribution.sum(axis=1), axis=0) * 100\n",
    "# Exclude 'undetermined' serialization format\n",
    "serialization_percentage_distribution = serialization_percentage_distribution.drop(columns=['undetermined'], errors='ignore')\n",
    "\n",
    "\n",
    "# # Plotting the percentage distribution using a line chart\n",
    "# plt.figure(figsize=(12, 6))\n",
    "# serialization_percentage_distribution.plot(kind='line', marker='x', figsize=(14, 7))\n",
    "# plt.title('Monthly Percentage Distribution of Serialization Formats (Last Commit per Repo)')\n",
    "# plt.xlabel('Month')\n",
    "# plt.ylabel('Percentage')\n",
    "# plt.xticks(rotation=45)\n",
    "# plt.grid(True)\n",
    "# plt.legend(title='Serialization Format')\n",
    "# plt.tight_layout()\n",
    "# plt.show()\n",
    "\n",
    "# Plotting the modified chart\n",
    "plt.figure(figsize=(12, 6))\n",
    "ax = serialization_percentage_distribution.plot(kind='line', marker='x', figsize=(14, 7))\n",
    "\n",
    "plt.title('Monthly Percentage Distribution of Serialization Formats (Last Commit per Repo)')\n",
    "plt.xlabel('Month')\n",
    "plt.ylabel('Percentage')\n",
    "plt.xticks(rotation=45)\n",
    "plt.grid(True)\n",
    "\n",
    "# Move the legend outside the plot\n",
    "plt.legend(title='Serialization Format', bbox_to_anchor=(0.5, -0.2), loc='upper center', ncol=6)\n",
    "plt.tight_layout()\n",
    "plt.show()\n"
   ],
   "metadata": {
    "collapsed": false
   },
   "id": "615200dcb87ef31a"
  }
 ],
 "metadata": {
  "kernelspec": {
   "display_name": "Python 3",
   "language": "python",
   "name": "python3"
  },
  "language_info": {
   "codemirror_mode": {
    "name": "ipython",
    "version": 3
   },
   "file_extension": ".py",
   "mimetype": "text/x-python",
   "name": "python",
   "nbconvert_exporter": "python",
   "pygments_lexer": "ipython3",
   "version": "3.11.0"
  }
 },
 "nbformat": 4,
 "nbformat_minor": 5
}
